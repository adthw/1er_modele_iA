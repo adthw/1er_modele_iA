{
 "cells": [
  {
   "cell_type": "markdown",
   "metadata": {},
   "source": [
    "# Premier modèle iA"
   ]
  },
  {
   "cell_type": "markdown",
   "metadata": {},
   "source": [
    "Régression linéaire simple :\n",
    "\n",
    "L’un des modèles les plus simples d’apprentissage automatique est la régression linéaire. Lorsqu’il existe une relation linéaire entre les entités et la variable cible, il suffit de trouver l’équation de la droite dans l’espace multidimensionnel.\n",
    "\n",
    "Utilisez les bibliothèques de Python pour récupérer le contenu du jeu de données.\n",
    "  Programmez les étapes du processus de machine learning en utilisant comme algorithme de machine learning la régression simple sur le jeu données nommé **reg_simple.csv **(Pour ce brief vous allez coder l’algorithme de régression simple sans utiliser la bibliothèque Scikit-learn)\n",
    "\n",
    "Étapes à suivre :\n",
    "\n",
    "* Récupération des données\n",
    "* Visualisation des données\n",
    "* Création du modèle (model(X,theta) )\n",
    "* Fonction du coût (fonction_cout(X,y,theta))\n",
    "* Gradient (gradient(X,y,theta))\n",
    "* Descente du gradient (descente_gradient(X,y,theta,alpha,n_iterations))\n",
    "* Evaluer votre modèle en utilisant le coefficient de détermination\n",
    "* Tracer la courbe de la fonction du coût selon les itérations\n"
   ]
  },
  {
   "cell_type": "markdown",
   "metadata": {},
   "source": [
    "### Import des librairies"
   ]
  },
  {
   "cell_type": "code",
   "execution_count": 1,
   "metadata": {},
   "outputs": [],
   "source": [
    "#-------- Librairies --------#\n",
    "import pandas as pd\n",
    "import numpy as np\n",
    "import matplotlib.pyplot as plt\n",
    "import scipy as sp\n",
    "from scipy import stats"
   ]
  },
  {
   "cell_type": "markdown",
   "metadata": {},
   "source": [
    "### Chargement et visualisation des données"
   ]
  },
  {
   "cell_type": "code",
   "execution_count": 2,
   "metadata": {},
   "outputs": [
    {
     "data": {
      "text/html": [
       "<div>\n",
       "<style scoped>\n",
       "    .dataframe tbody tr th:only-of-type {\n",
       "        vertical-align: middle;\n",
       "    }\n",
       "\n",
       "    .dataframe tbody tr th {\n",
       "        vertical-align: top;\n",
       "    }\n",
       "\n",
       "    .dataframe thead th {\n",
       "        text-align: right;\n",
       "    }\n",
       "</style>\n",
       "<table border=\"1\" class=\"dataframe\">\n",
       "  <thead>\n",
       "    <tr style=\"text-align: right;\">\n",
       "      <th></th>\n",
       "      <th>heure_rev</th>\n",
       "      <th>note</th>\n",
       "    </tr>\n",
       "  </thead>\n",
       "  <tbody>\n",
       "    <tr>\n",
       "      <th>0</th>\n",
       "      <td>2</td>\n",
       "      <td>10</td>\n",
       "    </tr>\n",
       "    <tr>\n",
       "      <th>1</th>\n",
       "      <td>3</td>\n",
       "      <td>12</td>\n",
       "    </tr>\n",
       "    <tr>\n",
       "      <th>2</th>\n",
       "      <td>4</td>\n",
       "      <td>20</td>\n",
       "    </tr>\n",
       "    <tr>\n",
       "      <th>3</th>\n",
       "      <td>5</td>\n",
       "      <td>22</td>\n",
       "    </tr>\n",
       "    <tr>\n",
       "      <th>4</th>\n",
       "      <td>6</td>\n",
       "      <td>21</td>\n",
       "    </tr>\n",
       "  </tbody>\n",
       "</table>\n",
       "</div>"
      ],
      "text/plain": [
       "   heure_rev  note\n",
       "0          2    10\n",
       "1          3    12\n",
       "2          4    20\n",
       "3          5    22\n",
       "4          6    21"
      ]
     },
     "execution_count": 2,
     "metadata": {},
     "output_type": "execute_result"
    }
   ],
   "source": [
    "path='./Data_reg/reg_simple.csv'\n",
    "df_reg_simple = pd.read_csv(path)\n",
    "df_reg_simple.head()"
   ]
  },
  {
   "cell_type": "code",
   "execution_count": 65,
   "metadata": {},
   "outputs": [
    {
     "name": "stdout",
     "output_type": "stream",
     "text": [
      "heure_rev    int64\n",
      "note         int64\n",
      "dtype: object\n"
     ]
    }
   ],
   "source": [
    "print(df_reg_simple.dtypes)"
   ]
  },
  {
   "cell_type": "markdown",
   "metadata": {},
   "source": [
    "### Affichage simple pour visiualisation rapide"
   ]
  },
  {
   "cell_type": "code",
   "execution_count": 3,
   "metadata": {},
   "outputs": [
    {
     "data": {
      "text/plain": [
       "<matplotlib.axes._subplots.AxesSubplot at 0x19b6b6a12b0>"
      ]
     },
     "execution_count": 3,
     "metadata": {},
     "output_type": "execute_result"
    },
    {
     "data": {
      "image/png": "[encoded data removed]",
      "text/plain": [
       "<Figure size 432x288 with 1 Axes>"
      ]
     },
     "metadata": {
      "needs_background": "light"
     },
     "output_type": "display_data"
    }
   ],
   "source": [
    "df_reg_simple.plot()"
   ]
  },
  {
   "cell_type": "markdown",
   "metadata": {},
   "source": [
    "### Formatage du dataset et séparation target/features"
   ]
  },
  {
   "cell_type": "code",
   "execution_count": 26,
   "metadata": {},
   "outputs": [
    {
     "name": "stdout",
     "output_type": "stream",
     "text": [
      "shape de x:  (27, 1)\n",
      "shape de y:  (27, 1)\n"
     ]
    },
    {
     "data": {
      "image/png": "[encoded data removed]",
      "text/plain": [
       "<Figure size 432x288 with 1 Axes>"
      ]
     },
     "metadata": {
      "needs_background": "light"
     },
     "output_type": "display_data"
    }
   ],
   "source": [
    "#Dataframe Pandas\n",
    "dataframe= pd.DataFrame(df_reg_simple)\n",
    "\n",
    "# feature x\n",
    "x = np.array(dataframe['heure_rev']) \n",
    "x = x.reshape((len(x),1))\n",
    "\n",
    "# target y\n",
    "y = np.array(dataframe['note'])\n",
    "y = y.reshape((len(y),1))\n",
    "\n",
    "\n",
    "#vérification\n",
    "print(\"shape de x: \", x.shape)\n",
    "print(\"shape de y: \", y.shape)\n",
    "\n",
    "\n",
    "#affichage\n",
    "plt.scatter(x,y)\n",
    "plt.xlabel('Heures_revision')\n",
    "plt.ylabel('Note')\n",
    "\n",
    "plt.show() "
   ]
  },
  {
   "cell_type": "markdown",
   "metadata": {},
   "source": [
    "## Concaténation et Création du modèle (model(X,theta) )\n",
    "### f(x) = X.theta"
   ]
  },
  {
   "cell_type": "code",
   "execution_count": 28,
   "metadata": {},
   "outputs": [
    {
     "data": {
      "text/plain": [
       "(27, 1)"
      ]
     },
     "execution_count": 28,
     "metadata": {},
     "output_type": "execute_result"
    }
   ],
   "source": [
    "x = np.array(df_reg_simple[\"heure_rev\"])\n",
    "x = x.reshape(len(X),1)\n",
    "#affichage\n",
    "x.shape"
   ]
  },
  {
   "cell_type": "code",
   "execution_count": 33,
   "metadata": {},
   "outputs": [
    {
     "data": {
      "text/plain": [
       "(27, 1)"
      ]
     },
     "execution_count": 33,
     "metadata": {},
     "output_type": "execute_result"
    }
   ],
   "source": [
    "#Colonne de 1 pour les 'b' de la fonction 'y = ax + b'\n",
    "o = np.ones(x.shape)\n",
    "#affichage\n",
    "o.shape"
   ]
  },
  {
   "cell_type": "markdown",
   "metadata": {},
   "source": [
    "### Matrice de X"
   ]
  },
  {
   "cell_type": "code",
   "execution_count": 38,
   "metadata": {},
   "outputs": [
    {
     "data": {
      "text/plain": [
       "(27, 2)"
      ]
     },
     "execution_count": 38,
     "metadata": {},
     "output_type": "execute_result"
    }
   ],
   "source": [
    "#Concaténation des Matrices \n",
    "X = np.hstack((x, o))\n",
    "X.shape"
   ]
  },
  {
   "cell_type": "code",
   "execution_count": 39,
   "metadata": {},
   "outputs": [
    {
     "data": {
      "text/plain": [
       "array([[ 2.,  1.],\n",
       "       [ 3.,  1.],\n",
       "       [ 4.,  1.],\n",
       "       [ 5.,  1.],\n",
       "       [ 6.,  1.],\n",
       "       [ 7.,  1.],\n",
       "       [ 8.,  1.],\n",
       "       [ 9.,  1.],\n",
       "       [10.,  1.],\n",
       "       [11.,  1.],\n",
       "       [12.,  1.],\n",
       "       [13.,  1.],\n",
       "       [14.,  1.],\n",
       "       [15.,  1.],\n",
       "       [16.,  1.],\n",
       "       [17.,  1.],\n",
       "       [18.,  1.],\n",
       "       [19.,  1.],\n",
       "       [20.,  1.],\n",
       "       [21.,  1.],\n",
       "       [22.,  1.],\n",
       "       [23.,  1.],\n",
       "       [24.,  1.],\n",
       "       [25.,  1.],\n",
       "       [26.,  1.],\n",
       "       [29.,  1.],\n",
       "       [30.,  1.]])"
      ]
     },
     "execution_count": 39,
     "metadata": {},
     "output_type": "execute_result"
    }
   ],
   "source": [
    "X"
   ]
  },
  {
   "cell_type": "markdown",
   "metadata": {},
   "source": [
    "### Matrice de Theta"
   ]
  },
  {
   "cell_type": "code",
   "execution_count": 56,
   "metadata": {},
   "outputs": [
    {
     "data": {
      "text/plain": [
       "array([[1.76791543],\n",
       "       [0.32238187]])"
      ]
     },
     "execution_count": 56,
     "metadata": {},
     "output_type": "execute_result"
    }
   ],
   "source": [
    "#juste pour initialiser Theta (d'autres methodes permettent de générer des initials plus proches du but)\n",
    "theta = np.random.randn(2, 1)\n",
    "theta"
   ]
  },
  {
   "cell_type": "code",
   "execution_count": 57,
   "metadata": {},
   "outputs": [
    {
     "name": "stdout",
     "output_type": "stream",
     "text": [
      "a = [1.76791543] b = [0.32238187]\n"
     ]
    }
   ],
   "source": [
    "# a et b \n",
    "print('a =',theta[0], 'b =', theta[1])"
   ]
  },
  {
   "cell_type": "markdown",
   "metadata": {},
   "source": [
    "### Modèle (model(X,theta)\n",
    "f(x) = X.theta"
   ]
  },
  {
   "cell_type": "code",
   "execution_count": 63,
   "metadata": {},
   "outputs": [
    {
     "data": {
      "image/png": "[encoded data removed]",
      "text/plain": [
       "<Figure size 432x288 with 1 Axes>"
      ]
     },
     "metadata": {
      "needs_background": "light"
     },
     "output_type": "display_data"
    }
   ],
   "source": [
    "def modele(X, theta):\n",
    "    return X.dot(theta)\n",
    "\n",
    "#modele(X, theta)\n",
    "\n",
    "#notes\n",
    "plt.scatter(x[:,0],y)\n",
    "plt.plot(x[:,0],modele(X,theta), c='r')\n",
    "\n",
    "plt.xlabel('Heures_revision')\n",
    "plt.ylabel('Note')\n",
    "\n",
    "\n",
    "plt.show() "
   ]
  },
  {
   "cell_type": "markdown",
   "metadata": {},
   "source": [
    "### Fonction du coût (fonction_cout(X,y,theta))\n",
    "Destinée à évaluer le modèle"
   ]
  },
  {
   "cell_type": "code",
   "execution_count": 62,
   "metadata": {},
   "outputs": [
    {
     "data": {
      "text/plain": [
       "376.2586393001728"
      ]
     },
     "execution_count": 62,
     "metadata": {},
     "output_type": "execute_result"
    }
   ],
   "source": [
    "def fonction_cout(X, y, theta):\n",
    "    m = len(y)\n",
    "    return 1/(2*m) * np.sum((modele(X, theta) - y)**2)\n",
    "\n",
    "#affichage\n",
    "fonction_cout(X,y,theta)"
   ]
  },
  {
   "cell_type": "markdown",
   "metadata": {},
   "source": [
    "### Gradient (gradient(X,y,theta))\n",
    "Le gradient tend vers 0 au point le plus bas de la descente de gradient"
   ]
  },
  {
   "cell_type": "code",
   "execution_count": 64,
   "metadata": {},
   "outputs": [
    {
     "data": {
      "text/plain": [
       "array([[-464.22701541],\n",
       "       [ -23.93401038]])"
      ]
     },
     "execution_count": 64,
     "metadata": {},
     "output_type": "execute_result"
    }
   ],
   "source": [
    "\n",
    "def gradient(X, y, theta):\n",
    "    m = len(y)\n",
    "    return 1/m * X.T.dot(modele(X, theta) - y)\n",
    "\n",
    "gradient(X,y,theta)"
   ]
  },
  {
   "cell_type": "markdown",
   "metadata": {},
   "source": [
    "### Fonction descente de Gradient\n",
    "Descente du gradient: (descente_gradient(X,y,theta,alpha,n_iterations))"
   ]
  },
  {
   "cell_type": "code",
   "execution_count": 67,
   "metadata": {},
   "outputs": [],
   "source": [
    "def descente_gradient(X, y, theta, learning_rate, n_iterations):\n",
    "    # création d'un tableau de stockage pour enregistrer l'évolution du Cout du modele\n",
    "    cost_history = np.zeros(n_iterations) \n",
    "     \n",
    "    for i in range(0, n_iterations):\n",
    "        # mise a jour du parametre theta (formule du gradient descent)\n",
    "        theta = theta - learning_rate * gradient(X, y, theta)\n",
    "        # on enregistre la valeur du Cout au tour i dans cost_history[i]\n",
    "        cost_history[i] = fonction_cout(X, y, theta) \n",
    "         \n",
    "    return theta, cost_history"
   ]
  },
  {
   "cell_type": "code",
   "execution_count": 80,
   "metadata": {},
   "outputs": [
    {
     "name": "stdout",
     "output_type": "stream",
     "text": [
      "(array([[3.34212832],\n",
      "       [0.40383197]]), array([192.03913599, 100.44935526,  54.9129827 ,  32.27332563,\n",
      "        21.01739891,  15.42120608,  12.63890525,  11.25560803,\n",
      "        10.56786384,  10.22593292,  10.05593257,   9.97141221,\n",
      "         9.92939057,   9.90849835,   9.89811118,   9.8929469 ,\n",
      "         9.89037931,   9.88910275,   9.88846805,   9.88815248,\n",
      "         9.88799556,   9.88791752,   9.88787871,   9.88785939,\n",
      "         9.88784977,   9.88784496,   9.88784255,   9.88784134,\n",
      "         9.88784071,   9.88784038,   9.8878402 ,   9.88784009,\n",
      "         9.88784002,   9.88783996,   9.88783991,   9.88783987,\n",
      "         9.88783983,   9.88783979,   9.88783975,   9.88783971,\n",
      "         9.88783968,   9.88783964,   9.8878396 ,   9.88783956,\n",
      "         9.88783952,   9.88783949,   9.88783945,   9.88783941,\n",
      "         9.88783937,   9.88783933]))\n"
     ]
    }
   ],
   "source": [
    "#Réglages learning rate et nombre d'itérations\n",
    "learning_rate = 0.001\n",
    "n_iterations = 50\n",
    "\n",
    "print(descente_gradient(X,y,theta,learning_rate,n_iterations))"
   ]
  },
  {
   "cell_type": "markdown",
   "metadata": {},
   "source": [
    "### Entrainement du modèle"
   ]
  },
  {
   "cell_type": "code",
   "execution_count": 83,
   "metadata": {},
   "outputs": [
    {
     "name": "stdout",
     "output_type": "stream",
     "text": [
      "theta final:  [[3.34212832]\n",
      " [0.40383197]]\n",
      "x (27, 1)\n",
      "y (27, 1)\n",
      "X (27, 2)\n"
     ]
    },
    {
     "data": {
      "image/png": "[encoded data removed]",
      "text/plain": [
       "<Figure size 432x288 with 1 Axes>"
      ]
     },
     "metadata": {
      "needs_background": "light"
     },
     "output_type": "display_data"
    }
   ],
   "source": [
    "theta_final, cost_history = descente_gradient(X, y, theta, learning_rate, n_iterations)\n",
    " \n",
    "print(\"theta final: \",theta_final) #parametres du modele une fois que la machine a été entrainée\n",
    " \n",
    "# Prédictions du modele final\n",
    "predictions = modele(X, theta_final)\n",
    "#print(\"predictions : \", predictions)\n",
    "print(\"x\",x.shape)\n",
    "print(\"y\",y.shape)\n",
    "print(\"X\",X.shape)\n",
    " \n",
    "# Affiche la droite de prédictions\n",
    "plt.scatter(x, y)\n",
    "plt.plot(x, predictions, c='r')\n",
    "plt.show()"
   ]
  },
  {
   "cell_type": "markdown",
   "metadata": {},
   "source": [
    "### Evaluer le modèle en utilisant le coefficient de détermination\n"
   ]
  },
  {
   "cell_type": "markdown",
   "metadata": {},
   "source": [
    "#### Méthode 1: Pearson"
   ]
  },
  {
   "cell_type": "code",
   "execution_count": 89,
   "metadata": {},
   "outputs": [
    {
     "name": "stdout",
     "output_type": "stream",
     "text": [
      "                  Resultat\n",
      "Pearson_coef  9.865700e-01\n",
      "p_value       3.398679e-21\n",
      "-----------------------------------\n",
      "test filtré : \n",
      "               Resultat\n",
      "Pearson_coef   0.98657\n",
      "-----------------------------------\n",
      "Calcul de R² : \n",
      "               Resultat\n",
      "Pearson_coef   0.97332\n"
     ]
    }
   ],
   "source": [
    "# test de corrélation de Pearson\n",
    "from scipy.stats import pearsonr\n",
    "\n",
    "test=pd.DataFrame(pearsonr(dataframe['note'], dataframe['heure_rev']), index = ['Pearson_coef', 'p_value'],\n",
    "columns = ['Resultat'])\n",
    "\n",
    "print(test)\n",
    "print('-----------------------------------')\n",
    "mask=test['Resultat']>0.5\n",
    "filtre_test=test[mask]\n",
    "print('test filtré : \\n',filtre_test)\n",
    "print('-----------------------------------')\n",
    "calcul=filtre_test**2\n",
    "print(\"Calcul de R² : \\n\", calcul)\n"
   ]
  },
  {
   "cell_type": "markdown",
   "metadata": {},
   "source": [
    "#### méthode 2: Coefficient de Détermination"
   ]
  },
  {
   "cell_type": "code",
   "execution_count": 90,
   "metadata": {},
   "outputs": [
    {
     "data": {
      "text/plain": [
       "0.9733201263085803"
      ]
     },
     "execution_count": 90,
     "metadata": {},
     "output_type": "execute_result"
    }
   ],
   "source": [
    "def coef_determination(y, predictions):\n",
    "    u = ((y - predictions)**2).sum()\n",
    "    v = ((y - y.mean())**2).sum()\n",
    "    return 1 - u/v\n",
    "\n",
    "coef_determination(y, predictions)"
   ]
  },
  {
   "cell_type": "markdown",
   "metadata": {},
   "source": [
    "#### Méthode 3:  Affichage de l'historique de la fonction coût : Erreur Quadratique moyenne"
   ]
  },
  {
   "cell_type": "code",
   "execution_count": 91,
   "metadata": {},
   "outputs": [
    {
     "data": {
      "image/png": "[encoded data removed]",
      "text/plain": [
       "<Figure size 432x288 with 1 Axes>"
      ]
     },
     "metadata": {
      "needs_background": "light"
     },
     "output_type": "display_data"
    }
   ],
   "source": [
    "plt.plot(range(n_iterations), cost_history)\n",
    "plt.show()"
   ]
  },
  {
   "cell_type": "markdown",
   "metadata": {},
   "source": [
    "#### Méthode 3: avec Sklearn"
   ]
  },
  {
   "cell_type": "code",
   "execution_count": 98,
   "metadata": {},
   "outputs": [
    {
     "data": {
      "image/png": "[encoded data removed]",
      "text/plain": [
       "<Figure size 432x288 with 1 Axes>"
      ]
     },
     "metadata": {
      "needs_background": "light"
     },
     "output_type": "display_data"
    }
   ],
   "source": [
    "# avec LinearRegression de sklearn\n",
    "from sklearn.linear_model import LinearRegression\n",
    "\n",
    "\n",
    "lr = LinearRegression()\n",
    "lr.fit(X,y)\n",
    "r2 = lr.score(X,y)\n",
    "str = f'R2 = {r2}'\n",
    "\n",
    "pred = lr.predict(X)\n",
    "\n",
    "plt.figure()\n",
    "\n",
    "plt.title(\"régression linéaire avec sklearn\")\n",
    "plt.scatter(x,y, c='b',s=8, label=\"données\")\n",
    "plt.plot(x,pred, c=\"r\", label=\"regression\")\n",
    "plt.text(14, 8, str)\n",
    "plt.xlabel(\"heures de révisions\")\n",
    "plt.ylabel(\"note obtenue ou prévue\")\n",
    "plt.legend()\n",
    "plt.show()"
   ]
  },
  {
   "cell_type": "markdown",
   "metadata": {},
   "source": [
    "# Régression linéaire multiple :\n",
    "\n",
    "L’exemple développé à partir de deux variables (régression simple) permet de comprendre la logique de la théorie de la régression mais il ne peut être généralisé de la sorte aux régressions multiples. Le système à deux équations à deux inconnus présenté se résolvait facilement comme on l’a vu. Les équations se compliquent avec plusieurs régresseurs, deux méthodes distinctes permettent de résoudre les équations. La première repose sur la connaissance des coefficients de corrélation linéaire simple de toutes les paires de variables entre elles, de la moyenne arithmétique et des écarts-types de toutes les variables. La seconde repose sur des calculs matriciels. En utilisant la méthode matricielle :\n",
    "\n",
    "- Implémentez un modèle de régression multiple sur la base de données issue du fichier nommé boston_house_prices.csv (sans utiliser la bibliothèque Scikit-learn).\n",
    "- Évaluez les résultats obtenus en utilisant la fonction mean_squared_error de sklearn\n"
   ]
  },
  {
   "cell_type": "code",
   "execution_count": 93,
   "metadata": {},
   "outputs": [
    {
     "data": {
      "text/html": [
       "<div>\n",
       "<style scoped>\n",
       "    .dataframe tbody tr th:only-of-type {\n",
       "        vertical-align: middle;\n",
       "    }\n",
       "\n",
       "    .dataframe tbody tr th {\n",
       "        vertical-align: top;\n",
       "    }\n",
       "\n",
       "    .dataframe thead th {\n",
       "        text-align: right;\n",
       "    }\n",
       "</style>\n",
       "<table border=\"1\" class=\"dataframe\">\n",
       "  <thead>\n",
       "    <tr style=\"text-align: right;\">\n",
       "      <th></th>\n",
       "      <th>CRIM</th>\n",
       "      <th>ZN</th>\n",
       "      <th>INDUS</th>\n",
       "      <th>CHAS</th>\n",
       "      <th>NOX</th>\n",
       "      <th>RM</th>\n",
       "      <th>AGE</th>\n",
       "      <th>DIS</th>\n",
       "      <th>RAD</th>\n",
       "      <th>TAX</th>\n",
       "      <th>PTRATIO</th>\n",
       "      <th>B</th>\n",
       "      <th>LSTAT</th>\n",
       "      <th>MEDV</th>\n",
       "    </tr>\n",
       "  </thead>\n",
       "  <tbody>\n",
       "    <tr>\n",
       "      <th>0</th>\n",
       "      <td>0.00632</td>\n",
       "      <td>18.0</td>\n",
       "      <td>2.31</td>\n",
       "      <td>0</td>\n",
       "      <td>0.538</td>\n",
       "      <td>6.575</td>\n",
       "      <td>65.2</td>\n",
       "      <td>4.0900</td>\n",
       "      <td>1</td>\n",
       "      <td>296</td>\n",
       "      <td>15.3</td>\n",
       "      <td>396.90</td>\n",
       "      <td>4.98</td>\n",
       "      <td>24.0</td>\n",
       "    </tr>\n",
       "    <tr>\n",
       "      <th>1</th>\n",
       "      <td>0.02731</td>\n",
       "      <td>0.0</td>\n",
       "      <td>7.07</td>\n",
       "      <td>0</td>\n",
       "      <td>0.469</td>\n",
       "      <td>6.421</td>\n",
       "      <td>78.9</td>\n",
       "      <td>4.9671</td>\n",
       "      <td>2</td>\n",
       "      <td>242</td>\n",
       "      <td>17.8</td>\n",
       "      <td>396.90</td>\n",
       "      <td>9.14</td>\n",
       "      <td>21.6</td>\n",
       "    </tr>\n",
       "    <tr>\n",
       "      <th>2</th>\n",
       "      <td>0.02729</td>\n",
       "      <td>0.0</td>\n",
       "      <td>7.07</td>\n",
       "      <td>0</td>\n",
       "      <td>0.469</td>\n",
       "      <td>7.185</td>\n",
       "      <td>61.1</td>\n",
       "      <td>4.9671</td>\n",
       "      <td>2</td>\n",
       "      <td>242</td>\n",
       "      <td>17.8</td>\n",
       "      <td>392.83</td>\n",
       "      <td>4.03</td>\n",
       "      <td>34.7</td>\n",
       "    </tr>\n",
       "    <tr>\n",
       "      <th>3</th>\n",
       "      <td>0.03237</td>\n",
       "      <td>0.0</td>\n",
       "      <td>2.18</td>\n",
       "      <td>0</td>\n",
       "      <td>0.458</td>\n",
       "      <td>6.998</td>\n",
       "      <td>45.8</td>\n",
       "      <td>6.0622</td>\n",
       "      <td>3</td>\n",
       "      <td>222</td>\n",
       "      <td>18.7</td>\n",
       "      <td>394.63</td>\n",
       "      <td>2.94</td>\n",
       "      <td>33.4</td>\n",
       "    </tr>\n",
       "    <tr>\n",
       "      <th>4</th>\n",
       "      <td>0.06905</td>\n",
       "      <td>0.0</td>\n",
       "      <td>2.18</td>\n",
       "      <td>0</td>\n",
       "      <td>0.458</td>\n",
       "      <td>7.147</td>\n",
       "      <td>54.2</td>\n",
       "      <td>6.0622</td>\n",
       "      <td>3</td>\n",
       "      <td>222</td>\n",
       "      <td>18.7</td>\n",
       "      <td>396.90</td>\n",
       "      <td>5.33</td>\n",
       "      <td>36.2</td>\n",
       "    </tr>\n",
       "    <tr>\n",
       "      <th>...</th>\n",
       "      <td>...</td>\n",
       "      <td>...</td>\n",
       "      <td>...</td>\n",
       "      <td>...</td>\n",
       "      <td>...</td>\n",
       "      <td>...</td>\n",
       "      <td>...</td>\n",
       "      <td>...</td>\n",
       "      <td>...</td>\n",
       "      <td>...</td>\n",
       "      <td>...</td>\n",
       "      <td>...</td>\n",
       "      <td>...</td>\n",
       "      <td>...</td>\n",
       "    </tr>\n",
       "    <tr>\n",
       "      <th>501</th>\n",
       "      <td>0.06263</td>\n",
       "      <td>0.0</td>\n",
       "      <td>11.93</td>\n",
       "      <td>0</td>\n",
       "      <td>0.573</td>\n",
       "      <td>6.593</td>\n",
       "      <td>69.1</td>\n",
       "      <td>2.4786</td>\n",
       "      <td>1</td>\n",
       "      <td>273</td>\n",
       "      <td>21.0</td>\n",
       "      <td>391.99</td>\n",
       "      <td>9.67</td>\n",
       "      <td>22.4</td>\n",
       "    </tr>\n",
       "    <tr>\n",
       "      <th>502</th>\n",
       "      <td>0.04527</td>\n",
       "      <td>0.0</td>\n",
       "      <td>11.93</td>\n",
       "      <td>0</td>\n",
       "      <td>0.573</td>\n",
       "      <td>6.120</td>\n",
       "      <td>76.7</td>\n",
       "      <td>2.2875</td>\n",
       "      <td>1</td>\n",
       "      <td>273</td>\n",
       "      <td>21.0</td>\n",
       "      <td>396.90</td>\n",
       "      <td>9.08</td>\n",
       "      <td>20.6</td>\n",
       "    </tr>\n",
       "    <tr>\n",
       "      <th>503</th>\n",
       "      <td>0.06076</td>\n",
       "      <td>0.0</td>\n",
       "      <td>11.93</td>\n",
       "      <td>0</td>\n",
       "      <td>0.573</td>\n",
       "      <td>6.976</td>\n",
       "      <td>91.0</td>\n",
       "      <td>2.1675</td>\n",
       "      <td>1</td>\n",
       "      <td>273</td>\n",
       "      <td>21.0</td>\n",
       "      <td>396.90</td>\n",
       "      <td>5.64</td>\n",
       "      <td>23.9</td>\n",
       "    </tr>\n",
       "    <tr>\n",
       "      <th>504</th>\n",
       "      <td>0.10959</td>\n",
       "      <td>0.0</td>\n",
       "      <td>11.93</td>\n",
       "      <td>0</td>\n",
       "      <td>0.573</td>\n",
       "      <td>6.794</td>\n",
       "      <td>89.3</td>\n",
       "      <td>2.3889</td>\n",
       "      <td>1</td>\n",
       "      <td>273</td>\n",
       "      <td>21.0</td>\n",
       "      <td>393.45</td>\n",
       "      <td>6.48</td>\n",
       "      <td>22.0</td>\n",
       "    </tr>\n",
       "    <tr>\n",
       "      <th>505</th>\n",
       "      <td>0.04741</td>\n",
       "      <td>0.0</td>\n",
       "      <td>11.93</td>\n",
       "      <td>0</td>\n",
       "      <td>0.573</td>\n",
       "      <td>6.030</td>\n",
       "      <td>80.8</td>\n",
       "      <td>2.5050</td>\n",
       "      <td>1</td>\n",
       "      <td>273</td>\n",
       "      <td>21.0</td>\n",
       "      <td>396.90</td>\n",
       "      <td>7.88</td>\n",
       "      <td>11.9</td>\n",
       "    </tr>\n",
       "  </tbody>\n",
       "</table>\n",
       "<p>506 rows × 14 columns</p>\n",
       "</div>"
      ],
      "text/plain": [
       "        CRIM    ZN  INDUS  CHAS    NOX     RM   AGE     DIS  RAD  TAX  \\\n",
       "0    0.00632  18.0   2.31     0  0.538  6.575  65.2  4.0900    1  296   \n",
       "1    0.02731   0.0   7.07     0  0.469  6.421  78.9  4.9671    2  242   \n",
       "2    0.02729   0.0   7.07     0  0.469  7.185  61.1  4.9671    2  242   \n",
       "3    0.03237   0.0   2.18     0  0.458  6.998  45.8  6.0622    3  222   \n",
       "4    0.06905   0.0   2.18     0  0.458  7.147  54.2  6.0622    3  222   \n",
       "..       ...   ...    ...   ...    ...    ...   ...     ...  ...  ...   \n",
       "501  0.06263   0.0  11.93     0  0.573  6.593  69.1  2.4786    1  273   \n",
       "502  0.04527   0.0  11.93     0  0.573  6.120  76.7  2.2875    1  273   \n",
       "503  0.06076   0.0  11.93     0  0.573  6.976  91.0  2.1675    1  273   \n",
       "504  0.10959   0.0  11.93     0  0.573  6.794  89.3  2.3889    1  273   \n",
       "505  0.04741   0.0  11.93     0  0.573  6.030  80.8  2.5050    1  273   \n",
       "\n",
       "     PTRATIO       B  LSTAT  MEDV  \n",
       "0       15.3  396.90   4.98  24.0  \n",
       "1       17.8  396.90   9.14  21.6  \n",
       "2       17.8  392.83   4.03  34.7  \n",
       "3       18.7  394.63   2.94  33.4  \n",
       "4       18.7  396.90   5.33  36.2  \n",
       "..       ...     ...    ...   ...  \n",
       "501     21.0  391.99   9.67  22.4  \n",
       "502     21.0  396.90   9.08  20.6  \n",
       "503     21.0  396.90   5.64  23.9  \n",
       "504     21.0  393.45   6.48  22.0  \n",
       "505     21.0  396.90   7.88  11.9  \n",
       "\n",
       "[506 rows x 14 columns]"
      ]
     },
     "execution_count": 93,
     "metadata": {},
     "output_type": "execute_result"
    }
   ],
   "source": [
    "boston=pd.read_csv(\"./Data_Reg/boston_house_prices.csv\")\n",
    "boston"
   ]
  },
  {
   "cell_type": "code",
   "execution_count": 94,
   "metadata": {},
   "outputs": [
    {
     "data": {
      "text/html": [
       "<div>\n",
       "<style scoped>\n",
       "    .dataframe tbody tr th:only-of-type {\n",
       "        vertical-align: middle;\n",
       "    }\n",
       "\n",
       "    .dataframe tbody tr th {\n",
       "        vertical-align: top;\n",
       "    }\n",
       "\n",
       "    .dataframe thead th {\n",
       "        text-align: right;\n",
       "    }\n",
       "</style>\n",
       "<table border=\"1\" class=\"dataframe\">\n",
       "  <thead>\n",
       "    <tr style=\"text-align: right;\">\n",
       "      <th></th>\n",
       "      <th>CRIM</th>\n",
       "      <th>ZN</th>\n",
       "      <th>INDUS</th>\n",
       "      <th>CHAS</th>\n",
       "      <th>NOX</th>\n",
       "      <th>RM</th>\n",
       "      <th>AGE</th>\n",
       "      <th>DIS</th>\n",
       "      <th>RAD</th>\n",
       "      <th>TAX</th>\n",
       "      <th>PTRATIO</th>\n",
       "      <th>B</th>\n",
       "      <th>LSTAT</th>\n",
       "      <th>MEDV</th>\n",
       "    </tr>\n",
       "  </thead>\n",
       "  <tbody>\n",
       "    <tr>\n",
       "      <th>0</th>\n",
       "      <td>False</td>\n",
       "      <td>False</td>\n",
       "      <td>False</td>\n",
       "      <td>False</td>\n",
       "      <td>False</td>\n",
       "      <td>False</td>\n",
       "      <td>False</td>\n",
       "      <td>False</td>\n",
       "      <td>False</td>\n",
       "      <td>False</td>\n",
       "      <td>False</td>\n",
       "      <td>False</td>\n",
       "      <td>False</td>\n",
       "      <td>False</td>\n",
       "    </tr>\n",
       "    <tr>\n",
       "      <th>1</th>\n",
       "      <td>False</td>\n",
       "      <td>False</td>\n",
       "      <td>False</td>\n",
       "      <td>False</td>\n",
       "      <td>False</td>\n",
       "      <td>False</td>\n",
       "      <td>False</td>\n",
       "      <td>False</td>\n",
       "      <td>False</td>\n",
       "      <td>False</td>\n",
       "      <td>False</td>\n",
       "      <td>False</td>\n",
       "      <td>False</td>\n",
       "      <td>False</td>\n",
       "    </tr>\n",
       "    <tr>\n",
       "      <th>2</th>\n",
       "      <td>False</td>\n",
       "      <td>False</td>\n",
       "      <td>False</td>\n",
       "      <td>False</td>\n",
       "      <td>False</td>\n",
       "      <td>False</td>\n",
       "      <td>False</td>\n",
       "      <td>False</td>\n",
       "      <td>False</td>\n",
       "      <td>False</td>\n",
       "      <td>False</td>\n",
       "      <td>False</td>\n",
       "      <td>False</td>\n",
       "      <td>False</td>\n",
       "    </tr>\n",
       "    <tr>\n",
       "      <th>3</th>\n",
       "      <td>False</td>\n",
       "      <td>False</td>\n",
       "      <td>False</td>\n",
       "      <td>False</td>\n",
       "      <td>False</td>\n",
       "      <td>False</td>\n",
       "      <td>False</td>\n",
       "      <td>False</td>\n",
       "      <td>False</td>\n",
       "      <td>False</td>\n",
       "      <td>False</td>\n",
       "      <td>False</td>\n",
       "      <td>False</td>\n",
       "      <td>False</td>\n",
       "    </tr>\n",
       "    <tr>\n",
       "      <th>4</th>\n",
       "      <td>False</td>\n",
       "      <td>False</td>\n",
       "      <td>False</td>\n",
       "      <td>False</td>\n",
       "      <td>False</td>\n",
       "      <td>False</td>\n",
       "      <td>False</td>\n",
       "      <td>False</td>\n",
       "      <td>False</td>\n",
       "      <td>False</td>\n",
       "      <td>False</td>\n",
       "      <td>False</td>\n",
       "      <td>False</td>\n",
       "      <td>False</td>\n",
       "    </tr>\n",
       "    <tr>\n",
       "      <th>...</th>\n",
       "      <td>...</td>\n",
       "      <td>...</td>\n",
       "      <td>...</td>\n",
       "      <td>...</td>\n",
       "      <td>...</td>\n",
       "      <td>...</td>\n",
       "      <td>...</td>\n",
       "      <td>...</td>\n",
       "      <td>...</td>\n",
       "      <td>...</td>\n",
       "      <td>...</td>\n",
       "      <td>...</td>\n",
       "      <td>...</td>\n",
       "      <td>...</td>\n",
       "    </tr>\n",
       "    <tr>\n",
       "      <th>501</th>\n",
       "      <td>False</td>\n",
       "      <td>False</td>\n",
       "      <td>False</td>\n",
       "      <td>False</td>\n",
       "      <td>False</td>\n",
       "      <td>False</td>\n",
       "      <td>False</td>\n",
       "      <td>False</td>\n",
       "      <td>False</td>\n",
       "      <td>False</td>\n",
       "      <td>False</td>\n",
       "      <td>False</td>\n",
       "      <td>False</td>\n",
       "      <td>False</td>\n",
       "    </tr>\n",
       "    <tr>\n",
       "      <th>502</th>\n",
       "      <td>False</td>\n",
       "      <td>False</td>\n",
       "      <td>False</td>\n",
       "      <td>False</td>\n",
       "      <td>False</td>\n",
       "      <td>False</td>\n",
       "      <td>False</td>\n",
       "      <td>False</td>\n",
       "      <td>False</td>\n",
       "      <td>False</td>\n",
       "      <td>False</td>\n",
       "      <td>False</td>\n",
       "      <td>False</td>\n",
       "      <td>False</td>\n",
       "    </tr>\n",
       "    <tr>\n",
       "      <th>503</th>\n",
       "      <td>False</td>\n",
       "      <td>False</td>\n",
       "      <td>False</td>\n",
       "      <td>False</td>\n",
       "      <td>False</td>\n",
       "      <td>False</td>\n",
       "      <td>False</td>\n",
       "      <td>False</td>\n",
       "      <td>False</td>\n",
       "      <td>False</td>\n",
       "      <td>False</td>\n",
       "      <td>False</td>\n",
       "      <td>False</td>\n",
       "      <td>False</td>\n",
       "    </tr>\n",
       "    <tr>\n",
       "      <th>504</th>\n",
       "      <td>False</td>\n",
       "      <td>False</td>\n",
       "      <td>False</td>\n",
       "      <td>False</td>\n",
       "      <td>False</td>\n",
       "      <td>False</td>\n",
       "      <td>False</td>\n",
       "      <td>False</td>\n",
       "      <td>False</td>\n",
       "      <td>False</td>\n",
       "      <td>False</td>\n",
       "      <td>False</td>\n",
       "      <td>False</td>\n",
       "      <td>False</td>\n",
       "    </tr>\n",
       "    <tr>\n",
       "      <th>505</th>\n",
       "      <td>False</td>\n",
       "      <td>False</td>\n",
       "      <td>False</td>\n",
       "      <td>False</td>\n",
       "      <td>False</td>\n",
       "      <td>False</td>\n",
       "      <td>False</td>\n",
       "      <td>False</td>\n",
       "      <td>False</td>\n",
       "      <td>False</td>\n",
       "      <td>False</td>\n",
       "      <td>False</td>\n",
       "      <td>False</td>\n",
       "      <td>False</td>\n",
       "    </tr>\n",
       "  </tbody>\n",
       "</table>\n",
       "<p>506 rows × 14 columns</p>\n",
       "</div>"
      ],
      "text/plain": [
       "      CRIM     ZN  INDUS   CHAS    NOX     RM    AGE    DIS    RAD    TAX  \\\n",
       "0    False  False  False  False  False  False  False  False  False  False   \n",
       "1    False  False  False  False  False  False  False  False  False  False   \n",
       "2    False  False  False  False  False  False  False  False  False  False   \n",
       "3    False  False  False  False  False  False  False  False  False  False   \n",
       "4    False  False  False  False  False  False  False  False  False  False   \n",
       "..     ...    ...    ...    ...    ...    ...    ...    ...    ...    ...   \n",
       "501  False  False  False  False  False  False  False  False  False  False   \n",
       "502  False  False  False  False  False  False  False  False  False  False   \n",
       "503  False  False  False  False  False  False  False  False  False  False   \n",
       "504  False  False  False  False  False  False  False  False  False  False   \n",
       "505  False  False  False  False  False  False  False  False  False  False   \n",
       "\n",
       "     PTRATIO      B  LSTAT   MEDV  \n",
       "0      False  False  False  False  \n",
       "1      False  False  False  False  \n",
       "2      False  False  False  False  \n",
       "3      False  False  False  False  \n",
       "4      False  False  False  False  \n",
       "..       ...    ...    ...    ...  \n",
       "501    False  False  False  False  \n",
       "502    False  False  False  False  \n",
       "503    False  False  False  False  \n",
       "504    False  False  False  False  \n",
       "505    False  False  False  False  \n",
       "\n",
       "[506 rows x 14 columns]"
      ]
     },
     "execution_count": 94,
     "metadata": {},
     "output_type": "execute_result"
    }
   ],
   "source": [
    "dataframe02= pd.DataFrame(boston)\n",
    "dataframe02.isnull() #Vérification si présence de valeurs nulles (False si valeur ok // True si pas de valeur)"
   ]
  },
  {
   "cell_type": "code",
   "execution_count": 124,
   "metadata": {},
   "outputs": [
    {
     "data": {
      "image/png": "[encoded data removed]",
      "text/plain": [
       "<Figure size 720x720 with 1 Axes>"
      ]
     },
     "metadata": {
      "needs_background": "light"
     },
     "output_type": "display_data"
    },
    {
     "data": {
      "image/png": "[encoded data removed]",
      "text/plain": [
       "<Figure size 432x288 with 16 Axes>"
      ]
     },
     "metadata": {
      "needs_background": "light"
     },
     "output_type": "display_data"
    }
   ],
   "source": [
    "plt.figure(figsize=(10,10))\n",
    "boston.boxplot()\n",
    "boston.hist()\n",
    "plt.show()"
   ]
  },
  {
   "cell_type": "markdown",
   "metadata": {},
   "source": [
    "### Méthode Pearson pour choix des variables explicatives\n",
    "#### Recherche de la corrélation dans la colonne MEDV avec valeur absolue car 1 et -1 sont corrélées"
   ]
  },
  {
   "cell_type": "code",
   "execution_count": 127,
   "metadata": {},
   "outputs": [
    {
     "data": {
      "text/plain": [
       "MEDV       1.000000\n",
       "LSTAT      0.737663\n",
       "RM         0.695360\n",
       "PTRATIO    0.507787\n",
       "INDUS      0.483725\n",
       "TAX        0.468536\n",
       "NOX        0.427321\n",
       "CRIM       0.388305\n",
       "RAD        0.381626\n",
       "AGE        0.376955\n",
       "ZN         0.360445\n",
       "B          0.333461\n",
       "DIS        0.249929\n",
       "CHAS       0.175260\n",
       "dtype: float64"
      ]
     },
     "execution_count": 127,
     "metadata": {},
     "output_type": "execute_result"
    }
   ],
   "source": [
    "dataframe02.corrwith(dataframe02['MEDV'], method='pearson').abs().sort_values(ascending=False)"
   ]
  },
  {
   "cell_type": "code",
   "execution_count": 128,
   "metadata": {},
   "outputs": [
    {
     "data": {
      "text/plain": [
       "<matplotlib.axes._subplots.AxesSubplot at 0x19b6e5a54f0>"
      ]
     },
     "execution_count": 128,
     "metadata": {},
     "output_type": "execute_result"
    },
    {
     "data": {
      "image/png": "[encoded data removed]",
      "text/plain": [
       "<Figure size 720x720 with 2 Axes>"
      ]
     },
     "metadata": {
      "needs_background": "light"
     },
     "output_type": "display_data"
    }
   ],
   "source": [
    "# visualisation du jeu de données sous forme de heatmap\n",
    "import seaborn as sns\n",
    "correlation=dataframe02.corr()\n",
    "plt.figure(figsize=(10,10))\n",
    "sns.heatmap(correlation, cbar=True, square= True, fmt='.1f', annot=True, annot_kws={'size':15}, cmap='Blues')"
   ]
  },
  {
   "cell_type": "code",
   "execution_count": 129,
   "metadata": {},
   "outputs": [
    {
     "name": "stdout",
     "output_type": "stream",
     "text": [
      "shape de x:  (506, 2)\n",
      "shape de y:  (506, 1)\n"
     ]
    }
   ],
   "source": [
    "selection_col=dataframe02.iloc[: , [5,12]] #Selection de la colonne 5: 'RM' et 12: 'LSTAT'\n",
    "\n",
    "x = np.array(selection_col) # Variables explicatives\n",
    "\n",
    "y = np.array(dataframe02['MEDV'])\n",
    "y = y.reshape((len(y),1))\n",
    "\n",
    "print(\"shape de x: \", x.shape)\n",
    "print(\"shape de y: \", y.shape)"
   ]
  },
  {
   "cell_type": "code",
   "execution_count": 152,
   "metadata": {},
   "outputs": [
    {
     "name": "stdout",
     "output_type": "stream",
     "text": [
      "shape X:  (506, 3)\n",
      "Matrice de X colonne 2: [[6.575 4.98  1.   ]]\n",
      "------------------------------------------------------------\n",
      "shape theta:  (3, 1)\n",
      " Matrice de theta:\n",
      "[[-1.45511336]\n",
      " [-0.88319013]\n",
      " [ 0.54320722]]\n"
     ]
    }
   ],
   "source": [
    "#3-Création du modèle (model(X,theta))\n",
    "\n",
    "#concaténation avec hstack\n",
    "test=np.ones((506,1))\n",
    "X = np.hstack((x, test))\n",
    "#X = np.hstack((x, np.ones(x.shape)))\n",
    "print(\"shape X: \",X.shape)\n",
    "print(\"Matrice de X colonne 2:\", X[:1])\n",
    "#print(\"test:\\n\",X[:1])\n",
    "\n",
    "print(\"------------------------------------------------------------\")\n",
    "\n",
    "#Création du theta aléatoire 3 lignes/1 colonne\n",
    "theta = np.random.randn(3,1)\n",
    "print(\"shape theta: \",theta.shape)\n",
    "print(\" Matrice de theta:\")\n",
    "print(theta)"
   ]
  },
  {
   "cell_type": "code",
   "execution_count": 153,
   "metadata": {},
   "outputs": [
    {
     "data": {
      "image/png": "[encoded data removed]",
      "text/plain": [
       "<Figure size 432x288 with 1 Axes>"
      ]
     },
     "metadata": {
      "needs_background": "light"
     },
     "output_type": "display_data"
    }
   ],
   "source": [
    "modele(X,theta)\n",
    "\n",
    "plt.scatter(x[:,1],y)\n",
    "plt.scatter(x[:,1],modele(X,theta), c='r')\n",
    "\n",
    "\n",
    "plt.show() "
   ]
  },
  {
   "cell_type": "code",
   "execution_count": 154,
   "metadata": {},
   "outputs": [
    {
     "data": {
      "text/plain": [
       "(array([[-7.33888001e+14],\n",
       "        [-1.91990375e+15],\n",
       "        [-1.20432262e+14]]),\n",
       " array([1.59393004e+03, 2.98355814e+03, 5.78203055e+03, 1.13744661e+04,\n",
       "        2.25165096e+04, 4.46885990e+04, 8.87888091e+04, 1.76487265e+05,\n",
       "        3.50872721e+05, 6.97621889e+05, 1.38709186e+06, 2.75801527e+06,\n",
       "        5.48391701e+06, 1.09040117e+07, 2.16811489e+07, 4.31100500e+07,\n",
       "        8.57185619e+07, 1.70439904e+08, 3.38896989e+08, 6.73851427e+08,\n",
       "        1.33986363e+09, 2.66414004e+09, 5.29728699e+09, 1.05329484e+10,\n",
       "        2.09433624e+10, 4.16430817e+10, 8.28017115e+10, 1.64640155e+11,\n",
       "        3.27364981e+11, 6.50921585e+11, 1.29427072e+12, 2.57348464e+12,\n",
       "        5.11703083e+12, 1.01745330e+13, 2.02307014e+13, 4.02260504e+13,\n",
       "        7.99841339e+13, 1.59037778e+14, 3.16225402e+14, 6.28772018e+14,\n",
       "        1.25022926e+15, 2.48591407e+15, 4.94290844e+15, 9.82831391e+15,\n",
       "        1.95422908e+16, 3.88572378e+16, 7.72624328e+16, 1.53626039e+17,\n",
       "        3.05464880e+17, 6.07376156e+17, 1.20768644e+18, 2.40132336e+18,\n",
       "        4.77471109e+18, 9.49387592e+18, 1.88773055e+19, 3.75350032e+19,\n",
       "        7.46333457e+19, 1.48398450e+20, 2.95070517e+20, 5.86708352e+20,\n",
       "        1.16659127e+21, 2.31961109e+21, 4.61223716e+21, 9.17081819e+21,\n",
       "        1.82349483e+22, 3.62577617e+22, 7.20937213e+22, 1.43348745e+23,\n",
       "        2.85029854e+23, 5.66743833e+23, 1.12689449e+24, 2.24067934e+24,\n",
       "        4.45529190e+24, 8.85875347e+24, 1.76144493e+25, 3.50239821e+25,\n",
       "        6.96405153e+25, 1.38470873e+26, 2.75330854e+26, 5.47458667e+26,\n",
       "        1.08854851e+27, 2.16443347e+27, 4.30368717e+27, 8.55730770e+27,\n",
       "        1.70150646e+28, 3.38321856e+28, 6.72707869e+28, 1.33758984e+29,\n",
       "        2.65961893e+29, 5.28829736e+29, 1.05150737e+30, 2.09078211e+30,\n",
       "        4.15724125e+30, 8.26611953e+30, 1.64360757e+31, 3.26809436e+31,\n",
       "        6.49816958e+31, 1.29207432e+32, 2.56911738e+32, 5.10834712e+32]))"
      ]
     },
     "execution_count": 154,
     "metadata": {},
     "output_type": "execute_result"
    }
   ],
   "source": [
    "fonction_cout(X,y,theta)\n",
    "gradient(X,y,theta)\n",
    "\n",
    "learning_rate = 0.01\n",
    "n_iterations = 100\n",
    "descente_gradient(X,y,theta,learning_rate,n_iterations)"
   ]
  },
  {
   "cell_type": "code",
   "execution_count": 155,
   "metadata": {},
   "outputs": [
    {
     "name": "stdout",
     "output_type": "stream",
     "text": [
      "[[ 4.71770563]\n",
      " [-0.6691397 ]\n",
      " [ 1.36652751]]\n",
      "x (506, 2)\n",
      "y (506, 1)\n",
      "X (506, 3)\n"
     ]
    },
    {
     "data": {
      "image/png": "[encoded data removed]",
      "text/plain": [
       "<Figure size 432x288 with 1 Axes>"
      ]
     },
     "metadata": {
      "needs_background": "light"
     },
     "output_type": "display_data"
    }
   ],
   "source": [
    "learning_rate = 0.002\n",
    "n_iterations = 1000\n",
    " \n",
    "theta_final, cost_history = descente_gradient(X, y, theta, learning_rate, n_iterations)\n",
    " \n",
    "print(theta_final) #parametres du modele une fois que la machine a été entrainée\n",
    " \n",
    "# création d'un vecteur prédictions qui contient les prédictions de notre modele final\n",
    "predictions = modele(X, theta_final)\n",
    "\n",
    "print(\"x\",x.shape)\n",
    "print(\"y\",y.shape)\n",
    "print(\"X\",X.shape)\n",
    "# Affiche les résultats de prédictions (en rouge) par rapport a notre Dataset (en bleu)\n",
    "plt.scatter(x[ :, 1], y)\n",
    "plt.scatter(x[ :, 1], predictions, c='r')\n",
    "plt.show()"
   ]
  },
  {
   "cell_type": "code",
   "execution_count": 156,
   "metadata": {},
   "outputs": [
    {
     "data": {
      "image/png": "[encoded data removed]",
      "text/plain": [
       "<Figure size 432x288 with 1 Axes>"
      ]
     },
     "metadata": {
      "needs_background": "light"
     },
     "output_type": "display_data"
    }
   ],
   "source": [
    "plt.plot(range(n_iterations), cost_history)\n",
    "plt.show()"
   ]
  },
  {
   "cell_type": "code",
   "execution_count": 157,
   "metadata": {},
   "outputs": [
    {
     "data": {
      "text/plain": [
       "0.638031642236172"
      ]
     },
     "execution_count": 157,
     "metadata": {},
     "output_type": "execute_result"
    }
   ],
   "source": [
    "coef_determination(y, predictions)"
   ]
  },
  {
   "cell_type": "code",
   "execution_count": 158,
   "metadata": {},
   "outputs": [
    {
     "name": "stdout",
     "output_type": "stream",
     "text": [
      "339.946211555336\n"
     ]
    }
   ],
   "source": [
    "#Mean Squared Error\n",
    "from sklearn.metrics import mean_squared_error\n",
    "erreur = mean_squared_error(X[:,0], y)\n",
    "print(erreur)"
   ]
  },
  {
   "cell_type": "markdown",
   "metadata": {},
   "source": [
    "# Régression Polynomiale :\n",
    "\n",
    "En utilisant les bibliothèques adéquates de Python, implémentez un modèle de régression polynomiale sur le jeu de données issu du fichier **Position_Salaire.csv **(sans utiliser la bibliothèque Scikit-learn).\n",
    "\n",
    "- Appliquez le même modèle sur le jeu de données issu du fichier data/qualite_vin_rouge.csv\n",
    "- Évaluez votre modèle.\n"
   ]
  },
  {
   "cell_type": "code",
   "execution_count": 159,
   "metadata": {},
   "outputs": [
    {
     "data": {
      "text/html": [
       "<div>\n",
       "<style scoped>\n",
       "    .dataframe tbody tr th:only-of-type {\n",
       "        vertical-align: middle;\n",
       "    }\n",
       "\n",
       "    .dataframe tbody tr th {\n",
       "        vertical-align: top;\n",
       "    }\n",
       "\n",
       "    .dataframe thead th {\n",
       "        text-align: right;\n",
       "    }\n",
       "</style>\n",
       "<table border=\"1\" class=\"dataframe\">\n",
       "  <thead>\n",
       "    <tr style=\"text-align: right;\">\n",
       "      <th></th>\n",
       "      <th>Position</th>\n",
       "      <th>Level</th>\n",
       "      <th>Salary</th>\n",
       "    </tr>\n",
       "  </thead>\n",
       "  <tbody>\n",
       "    <tr>\n",
       "      <th>0</th>\n",
       "      <td>Project Analyste</td>\n",
       "      <td>1</td>\n",
       "      <td>45000</td>\n",
       "    </tr>\n",
       "    <tr>\n",
       "      <th>1</th>\n",
       "      <td>Ingenieur</td>\n",
       "      <td>2</td>\n",
       "      <td>50000</td>\n",
       "    </tr>\n",
       "    <tr>\n",
       "      <th>2</th>\n",
       "      <td>Senior Consultant</td>\n",
       "      <td>3</td>\n",
       "      <td>60000</td>\n",
       "    </tr>\n",
       "    <tr>\n",
       "      <th>3</th>\n",
       "      <td>Manager</td>\n",
       "      <td>4</td>\n",
       "      <td>80000</td>\n",
       "    </tr>\n",
       "    <tr>\n",
       "      <th>4</th>\n",
       "      <td>Country Manager</td>\n",
       "      <td>5</td>\n",
       "      <td>110000</td>\n",
       "    </tr>\n",
       "    <tr>\n",
       "      <th>5</th>\n",
       "      <td>Gouverneur</td>\n",
       "      <td>6</td>\n",
       "      <td>150000</td>\n",
       "    </tr>\n",
       "    <tr>\n",
       "      <th>6</th>\n",
       "      <td>Associate</td>\n",
       "      <td>7</td>\n",
       "      <td>200000</td>\n",
       "    </tr>\n",
       "    <tr>\n",
       "      <th>7</th>\n",
       "      <td>Commercial</td>\n",
       "      <td>8</td>\n",
       "      <td>300000</td>\n",
       "    </tr>\n",
       "    <tr>\n",
       "      <th>8</th>\n",
       "      <td>C-level</td>\n",
       "      <td>9</td>\n",
       "      <td>500000</td>\n",
       "    </tr>\n",
       "    <tr>\n",
       "      <th>9</th>\n",
       "      <td>PDG</td>\n",
       "      <td>10</td>\n",
       "      <td>1000000</td>\n",
       "    </tr>\n",
       "  </tbody>\n",
       "</table>\n",
       "</div>"
      ],
      "text/plain": [
       "            Position  Level   Salary\n",
       "0   Project Analyste      1    45000\n",
       "1          Ingenieur      2    50000\n",
       "2  Senior Consultant      3    60000\n",
       "3            Manager      4    80000\n",
       "4    Country Manager      5   110000\n",
       "5         Gouverneur      6   150000\n",
       "6          Associate      7   200000\n",
       "7         Commercial      8   300000\n",
       "8            C-level      9   500000\n",
       "9                PDG     10  1000000"
      ]
     },
     "execution_count": 159,
     "metadata": {},
     "output_type": "execute_result"
    }
   ],
   "source": [
    "#1-Récupération des données\n",
    "\n",
    "salaires=pd.read_csv(\"./Data_Reg/Position_Salaries.csv\")\n",
    "salaires"
   ]
  },
  {
   "cell_type": "code",
   "execution_count": 161,
   "metadata": {},
   "outputs": [
    {
     "name": "stdout",
     "output_type": "stream",
     "text": [
      "[[  1.   1.   1.]\n",
      " [  4.   2.   1.]\n",
      " [  9.   3.   1.]\n",
      " [ 16.   4.   1.]\n",
      " [ 25.   5.   1.]\n",
      " [ 36.   6.   1.]\n",
      " [ 49.   7.   1.]\n",
      " [ 64.   8.   1.]\n",
      " [ 81.   9.   1.]\n",
      " [100.  10.   1.]]\n",
      "shape de x:  (10, 1)\n",
      "--------------------------------------------------------------\n",
      "shape de X:  (10, 3)\n",
      "--------------------------------------------------------------\n",
      "shape de y:  (10, 1)\n",
      "--------------------------------------------------------------\n"
     ]
    }
   ],
   "source": [
    "#2-Visualisation des données\n",
    "\n",
    "dataframe03= pd.DataFrame(salaires)\n",
    "x = np.array(dataframe03['Level'])\n",
    "x=x.reshape(10,1)\n",
    "\n",
    "col_un=np.ones(x.shape)\n",
    "\n",
    "\n",
    "X = np.hstack((x, col_un))\n",
    "X = np.hstack((x**2,X))\n",
    "print(X)\n",
    "\n",
    "\n",
    "y = np.array(dataframe03['Salary'])\n",
    "y = y.reshape((len(y),1))\n",
    "\n",
    "print(\"shape de x: \", x.shape)\n",
    "print('--------------------------------------------------------------')\n",
    "print(\"shape de X: \", X.shape)\n",
    "print('--------------------------------------------------------------')\n",
    "print(\"shape de y: \", y.shape)\n",
    "print('--------------------------------------------------------------')\n"
   ]
  },
  {
   "cell_type": "code",
   "execution_count": 162,
   "metadata": {},
   "outputs": [
    {
     "data": {
      "text/plain": [
       "Text(0, 0.5, 'Salaire')"
      ]
     },
     "execution_count": 162,
     "metadata": {},
     "output_type": "execute_result"
    },
    {
     "data": {
      "image/png": "[encoded data removed]",
      "text/plain": [
       "<Figure size 432x288 with 1 Axes>"
      ]
     },
     "metadata": {
      "needs_background": "light"
     },
     "output_type": "display_data"
    }
   ],
   "source": [
    "\n",
    "plt.scatter(x,y)\n",
    "plt.xlabel('Level')\n",
    "plt.ylabel('Salaire')"
   ]
  },
  {
   "cell_type": "code",
   "execution_count": 166,
   "metadata": {},
   "outputs": [],
   "source": [
    "#Création du theta aléatoire 3 lignes/1 colonne en lien avec le nb de paramètres (ici a,b et c donc 3 paramètres)\n",
    "theta = np.random.randn(3,1)"
   ]
  },
  {
   "cell_type": "code",
   "execution_count": 167,
   "metadata": {},
   "outputs": [
    {
     "data": {
      "image/png": "[encoded data removed]",
      "text/plain": [
       "<Figure size 432x288 with 1 Axes>"
      ]
     },
     "metadata": {
      "needs_background": "light"
     },
     "output_type": "display_data"
    }
   ],
   "source": [
    "modele(X, theta)\n",
    "\n",
    "plt.scatter(x,y)\n",
    "plt.plot(x,modele(X,theta), c='r')\n",
    "\n",
    "\n",
    "plt.show() "
   ]
  },
  {
   "cell_type": "code",
   "execution_count": 168,
   "metadata": {},
   "outputs": [
    {
     "data": {
      "text/plain": [
       "(array([[ 8146.80534895],\n",
       "        [-8616.53385849],\n",
       "        [-1830.16558961]]),\n",
       " array([4.29480312e+10, 2.72027022e+10, 1.85100647e+10, 1.37108133e+10,\n",
       "        1.10608770e+10, 9.59745458e+09, 8.78903853e+09, 8.34221418e+09,\n",
       "        8.09500413e+09, 7.95798996e+09, 7.88180889e+09, 7.83921057e+09,\n",
       "        7.81515164e+09, 7.80132753e+09, 7.79315377e+09, 7.78809951e+09,\n",
       "        7.78476765e+09, 7.78238691e+09, 7.78053151e+09, 7.77896641e+09,\n",
       "        7.77756185e+09, 7.77624619e+09, 7.77497991e+09, 7.77374116e+09,\n",
       "        7.77251790e+09, 7.77130347e+09, 7.77009419e+09, 7.76888806e+09,\n",
       "        7.76768393e+09, 7.76648120e+09, 7.76527952e+09, 7.76407871e+09,\n",
       "        7.76287865e+09, 7.76167930e+09, 7.76048062e+09, 7.75928260e+09,\n",
       "        7.75808521e+09, 7.75688846e+09, 7.75569235e+09, 7.75449687e+09,\n",
       "        7.75330201e+09, 7.75210779e+09, 7.75091420e+09, 7.74972123e+09,\n",
       "        7.74852889e+09, 7.74733719e+09, 7.74614610e+09, 7.74495565e+09,\n",
       "        7.74376582e+09, 7.74257662e+09, 7.74138804e+09, 7.74020009e+09,\n",
       "        7.73901277e+09, 7.73782607e+09, 7.73663999e+09, 7.73545454e+09,\n",
       "        7.73426971e+09, 7.73308551e+09, 7.73190193e+09, 7.73071897e+09,\n",
       "        7.72953664e+09, 7.72835493e+09, 7.72717384e+09, 7.72599337e+09,\n",
       "        7.72481352e+09, 7.72363430e+09, 7.72245569e+09, 7.72127770e+09,\n",
       "        7.72010034e+09, 7.71892359e+09, 7.71774747e+09, 7.71657196e+09,\n",
       "        7.71539707e+09, 7.71422280e+09, 7.71304915e+09, 7.71187611e+09,\n",
       "        7.71070369e+09, 7.70953189e+09, 7.70836071e+09, 7.70719014e+09,\n",
       "        7.70602019e+09, 7.70485085e+09, 7.70368213e+09, 7.70251402e+09,\n",
       "        7.70134653e+09, 7.70017966e+09, 7.69901339e+09, 7.69784774e+09,\n",
       "        7.69668271e+09, 7.69551828e+09, 7.69435447e+09, 7.69319127e+09,\n",
       "        7.69202869e+09, 7.69086671e+09, 7.68970535e+09, 7.68854460e+09,\n",
       "        7.68738446e+09, 7.68622493e+09, 7.68506600e+09, 7.68390769e+09,\n",
       "        7.68274999e+09, 7.68159290e+09, 7.68043641e+09, 7.67928054e+09,\n",
       "        7.67812527e+09, 7.67697061e+09, 7.67581656e+09, 7.67466311e+09,\n",
       "        7.67351027e+09, 7.67235804e+09, 7.67120641e+09, 7.67005539e+09,\n",
       "        7.66890497e+09, 7.66775516e+09, 7.66660596e+09, 7.66545736e+09,\n",
       "        7.66430936e+09, 7.66316197e+09, 7.66201518e+09, 7.66086899e+09,\n",
       "        7.65972341e+09, 7.65857843e+09, 7.65743405e+09, 7.65629027e+09,\n",
       "        7.65514710e+09, 7.65400452e+09, 7.65286255e+09, 7.65172117e+09,\n",
       "        7.65058040e+09, 7.64944023e+09, 7.64830066e+09, 7.64716168e+09,\n",
       "        7.64602331e+09, 7.64488553e+09, 7.64374835e+09, 7.64261177e+09,\n",
       "        7.64147579e+09, 7.64034041e+09, 7.63920562e+09, 7.63807143e+09,\n",
       "        7.63693783e+09, 7.63580483e+09, 7.63467243e+09, 7.63354062e+09,\n",
       "        7.63240941e+09, 7.63127879e+09, 7.63014877e+09, 7.62901934e+09,\n",
       "        7.62789050e+09, 7.62676226e+09, 7.62563461e+09, 7.62450756e+09,\n",
       "        7.62338109e+09, 7.62225522e+09, 7.62112994e+09, 7.62000525e+09,\n",
       "        7.61888116e+09, 7.61775765e+09, 7.61663474e+09, 7.61551241e+09,\n",
       "        7.61439068e+09, 7.61326953e+09, 7.61214898e+09, 7.61102901e+09,\n",
       "        7.60990963e+09, 7.60879084e+09, 7.60767264e+09, 7.60655503e+09,\n",
       "        7.60543800e+09, 7.60432156e+09, 7.60320571e+09, 7.60209045e+09,\n",
       "        7.60097577e+09, 7.59986167e+09, 7.59874817e+09, 7.59763524e+09,\n",
       "        7.59652290e+09, 7.59541115e+09, 7.59429998e+09, 7.59318940e+09,\n",
       "        7.59207940e+09, 7.59096998e+09, 7.58986114e+09, 7.58875289e+09,\n",
       "        7.58764522e+09, 7.58653813e+09, 7.58543163e+09, 7.58432570e+09,\n",
       "        7.58322036e+09, 7.58211560e+09, 7.58101141e+09, 7.57990781e+09,\n",
       "        7.57880479e+09, 7.57770235e+09, 7.57660049e+09, 7.57549920e+09,\n",
       "        7.57439850e+09, 7.57329837e+09, 7.57219882e+09, 7.57109985e+09,\n",
       "        7.57000146e+09, 7.56890364e+09, 7.56780640e+09, 7.56670974e+09,\n",
       "        7.56561365e+09, 7.56451814e+09, 7.56342320e+09, 7.56232884e+09,\n",
       "        7.56123505e+09, 7.56014184e+09, 7.55904921e+09, 7.55795714e+09,\n",
       "        7.55686565e+09, 7.55577474e+09, 7.55468440e+09, 7.55359463e+09,\n",
       "        7.55250543e+09, 7.55141680e+09, 7.55032875e+09, 7.54924127e+09,\n",
       "        7.54815436e+09, 7.54706802e+09, 7.54598225e+09, 7.54489705e+09,\n",
       "        7.54381242e+09, 7.54272836e+09, 7.54164487e+09, 7.54056195e+09,\n",
       "        7.53947960e+09, 7.53839782e+09, 7.53731660e+09, 7.53623595e+09,\n",
       "        7.53515588e+09, 7.53407636e+09, 7.53299742e+09, 7.53191904e+09,\n",
       "        7.53084123e+09, 7.52976398e+09, 7.52868730e+09, 7.52761118e+09,\n",
       "        7.52653563e+09, 7.52546065e+09, 7.52438622e+09, 7.52331237e+09,\n",
       "        7.52223907e+09, 7.52116635e+09, 7.52009418e+09, 7.51902258e+09,\n",
       "        7.51795154e+09, 7.51688106e+09, 7.51581114e+09, 7.51474179e+09,\n",
       "        7.51367299e+09, 7.51260476e+09, 7.51153709e+09, 7.51046998e+09,\n",
       "        7.50940343e+09, 7.50833744e+09, 7.50727201e+09, 7.50620714e+09,\n",
       "        7.50514283e+09, 7.50407908e+09, 7.50301588e+09, 7.50195324e+09,\n",
       "        7.50089117e+09, 7.49982964e+09, 7.49876868e+09, 7.49770827e+09,\n",
       "        7.49664842e+09, 7.49558913e+09, 7.49453039e+09, 7.49347221e+09,\n",
       "        7.49241458e+09, 7.49135751e+09, 7.49030099e+09, 7.48924503e+09,\n",
       "        7.48818962e+09, 7.48713477e+09, 7.48608047e+09, 7.48502672e+09,\n",
       "        7.48397353e+09, 7.48292089e+09, 7.48186880e+09, 7.48081726e+09,\n",
       "        7.47976628e+09, 7.47871585e+09, 7.47766596e+09, 7.47661663e+09,\n",
       "        7.47556785e+09, 7.47451962e+09, 7.47347194e+09, 7.47242481e+09,\n",
       "        7.47137823e+09, 7.47033220e+09, 7.46928672e+09, 7.46824179e+09,\n",
       "        7.46719740e+09, 7.46615357e+09, 7.46511028e+09, 7.46406753e+09,\n",
       "        7.46302534e+09, 7.46198369e+09, 7.46094259e+09, 7.45990203e+09,\n",
       "        7.45886203e+09, 7.45782256e+09, 7.45678364e+09, 7.45574527e+09,\n",
       "        7.45470744e+09, 7.45367016e+09, 7.45263342e+09, 7.45159722e+09,\n",
       "        7.45056157e+09, 7.44952646e+09, 7.44849190e+09, 7.44745787e+09,\n",
       "        7.44642439e+09, 7.44539146e+09, 7.44435906e+09, 7.44332720e+09,\n",
       "        7.44229589e+09, 7.44126512e+09, 7.44023489e+09, 7.43920519e+09,\n",
       "        7.43817604e+09, 7.43714743e+09, 7.43611936e+09, 7.43509183e+09,\n",
       "        7.43406483e+09, 7.43303838e+09, 7.43201246e+09, 7.43098708e+09,\n",
       "        7.42996224e+09, 7.42893794e+09, 7.42791417e+09, 7.42689094e+09,\n",
       "        7.42586825e+09, 7.42484609e+09, 7.42382447e+09, 7.42280339e+09,\n",
       "        7.42178284e+09, 7.42076282e+09, 7.41974335e+09, 7.41872440e+09,\n",
       "        7.41770599e+09, 7.41668812e+09, 7.41567077e+09, 7.41465396e+09,\n",
       "        7.41363769e+09, 7.41262195e+09, 7.41160674e+09, 7.41059206e+09,\n",
       "        7.40957791e+09, 7.40856430e+09, 7.40755122e+09, 7.40653867e+09,\n",
       "        7.40552665e+09, 7.40451516e+09, 7.40350420e+09, 7.40249377e+09,\n",
       "        7.40148387e+09, 7.40047450e+09, 7.39946566e+09, 7.39845734e+09,\n",
       "        7.39744956e+09, 7.39644230e+09, 7.39543558e+09, 7.39442938e+09,\n",
       "        7.39342371e+09, 7.39241856e+09, 7.39141394e+09, 7.39040985e+09,\n",
       "        7.38940629e+09, 7.38840325e+09, 7.38740073e+09, 7.38639875e+09,\n",
       "        7.38539728e+09, 7.38439635e+09, 7.38339593e+09, 7.38239605e+09,\n",
       "        7.38139668e+09, 7.38039784e+09, 7.37939952e+09, 7.37840173e+09,\n",
       "        7.37740446e+09, 7.37640771e+09, 7.37541148e+09, 7.37441578e+09,\n",
       "        7.37342060e+09, 7.37242594e+09, 7.37143180e+09, 7.37043818e+09,\n",
       "        7.36944508e+09, 7.36845251e+09, 7.36746045e+09, 7.36646891e+09,\n",
       "        7.36547789e+09, 7.36448740e+09, 7.36349742e+09, 7.36250796e+09,\n",
       "        7.36151901e+09, 7.36053059e+09, 7.35954268e+09, 7.35855530e+09,\n",
       "        7.35756842e+09, 7.35658207e+09, 7.35559623e+09, 7.35461091e+09,\n",
       "        7.35362611e+09, 7.35264182e+09, 7.35165805e+09, 7.35067479e+09,\n",
       "        7.34969205e+09, 7.34870982e+09, 7.34772811e+09, 7.34674691e+09,\n",
       "        7.34576622e+09, 7.34478605e+09, 7.34380639e+09, 7.34282725e+09,\n",
       "        7.34184862e+09, 7.34087050e+09, 7.33989289e+09, 7.33891580e+09,\n",
       "        7.33793922e+09, 7.33696315e+09, 7.33598759e+09, 7.33501254e+09,\n",
       "        7.33403800e+09, 7.33306397e+09, 7.33209045e+09, 7.33111745e+09,\n",
       "        7.33014495e+09, 7.32917296e+09, 7.32820148e+09, 7.32723051e+09,\n",
       "        7.32626005e+09, 7.32529009e+09, 7.32432065e+09, 7.32335171e+09,\n",
       "        7.32238328e+09, 7.32141535e+09, 7.32044794e+09, 7.31948103e+09,\n",
       "        7.31851462e+09, 7.31754872e+09, 7.31658333e+09, 7.31561844e+09,\n",
       "        7.31465406e+09, 7.31369019e+09, 7.31272681e+09, 7.31176395e+09,\n",
       "        7.31080158e+09, 7.30983972e+09, 7.30887837e+09, 7.30791752e+09,\n",
       "        7.30695717e+09, 7.30599732e+09, 7.30503797e+09, 7.30407913e+09,\n",
       "        7.30312079e+09, 7.30216295e+09, 7.30120562e+09, 7.30024878e+09,\n",
       "        7.29929245e+09, 7.29833661e+09, 7.29738128e+09, 7.29642645e+09,\n",
       "        7.29547211e+09, 7.29451828e+09, 7.29356494e+09, 7.29261211e+09,\n",
       "        7.29165977e+09, 7.29070793e+09, 7.28975659e+09, 7.28880575e+09,\n",
       "        7.28785540e+09, 7.28690555e+09, 7.28595620e+09, 7.28500735e+09,\n",
       "        7.28405899e+09, 7.28311113e+09, 7.28216377e+09, 7.28121690e+09,\n",
       "        7.28027052e+09, 7.27932465e+09, 7.27837926e+09, 7.27743437e+09,\n",
       "        7.27648998e+09, 7.27554608e+09, 7.27460267e+09, 7.27365976e+09,\n",
       "        7.27271734e+09, 7.27177542e+09, 7.27083399e+09, 7.26989305e+09,\n",
       "        7.26895260e+09, 7.26801264e+09, 7.26707318e+09, 7.26613421e+09,\n",
       "        7.26519572e+09, 7.26425773e+09, 7.26332023e+09, 7.26238323e+09,\n",
       "        7.26144671e+09, 7.26051068e+09, 7.25957514e+09, 7.25864009e+09,\n",
       "        7.25770553e+09, 7.25677146e+09, 7.25583788e+09, 7.25490478e+09,\n",
       "        7.25397217e+09, 7.25304006e+09, 7.25210843e+09, 7.25117728e+09,\n",
       "        7.25024663e+09, 7.24931646e+09, 7.24838677e+09, 7.24745758e+09,\n",
       "        7.24652886e+09, 7.24560064e+09, 7.24467290e+09, 7.24374565e+09,\n",
       "        7.24281888e+09, 7.24189259e+09, 7.24096679e+09, 7.24004147e+09,\n",
       "        7.23911664e+09, 7.23819229e+09, 7.23726843e+09, 7.23634505e+09,\n",
       "        7.23542215e+09, 7.23449973e+09, 7.23357780e+09, 7.23265635e+09,\n",
       "        7.23173538e+09, 7.23081489e+09, 7.22989488e+09, 7.22897535e+09,\n",
       "        7.22805631e+09, 7.22713774e+09, 7.22621966e+09, 7.22530205e+09,\n",
       "        7.22438493e+09, 7.22346828e+09, 7.22255212e+09, 7.22163643e+09,\n",
       "        7.22072122e+09, 7.21980649e+09, 7.21889224e+09, 7.21797847e+09,\n",
       "        7.21706517e+09, 7.21615236e+09, 7.21524001e+09, 7.21432815e+09,\n",
       "        7.21341676e+09, 7.21250585e+09, 7.21159542e+09, 7.21068546e+09,\n",
       "        7.20977597e+09, 7.20886697e+09, 7.20795843e+09, 7.20705038e+09,\n",
       "        7.20614279e+09, 7.20523568e+09, 7.20432905e+09, 7.20342289e+09,\n",
       "        7.20251720e+09, 7.20161199e+09, 7.20070725e+09, 7.19980298e+09,\n",
       "        7.19889918e+09, 7.19799586e+09, 7.19709301e+09, 7.19619063e+09,\n",
       "        7.19528872e+09, 7.19438729e+09, 7.19348632e+09, 7.19258583e+09,\n",
       "        7.19168580e+09, 7.19078625e+09, 7.18988717e+09, 7.18898855e+09,\n",
       "        7.18809041e+09, 7.18719274e+09, 7.18629553e+09, 7.18539879e+09,\n",
       "        7.18450252e+09, 7.18360672e+09, 7.18271139e+09, 7.18181653e+09,\n",
       "        7.18092213e+09, 7.18002820e+09, 7.17913474e+09, 7.17824175e+09,\n",
       "        7.17734922e+09, 7.17645715e+09, 7.17556556e+09, 7.17467443e+09,\n",
       "        7.17378376e+09, 7.17289356e+09, 7.17200383e+09, 7.17111455e+09,\n",
       "        7.17022575e+09, 7.16933741e+09, 7.16844953e+09, 7.16756212e+09,\n",
       "        7.16667517e+09, 7.16578868e+09, 7.16490266e+09, 7.16401709e+09,\n",
       "        7.16313200e+09, 7.16224736e+09, 7.16136319e+09, 7.16047947e+09,\n",
       "        7.15959622e+09, 7.15871343e+09, 7.15783110e+09, 7.15694924e+09,\n",
       "        7.15606783e+09, 7.15518688e+09, 7.15430639e+09, 7.15342637e+09,\n",
       "        7.15254680e+09, 7.15166769e+09, 7.15078904e+09, 7.14991085e+09,\n",
       "        7.14903312e+09, 7.14815585e+09, 7.14727903e+09, 7.14640267e+09,\n",
       "        7.14552677e+09, 7.14465133e+09, 7.14377634e+09, 7.14290181e+09,\n",
       "        7.14202774e+09, 7.14115413e+09, 7.14028097e+09, 7.13940826e+09,\n",
       "        7.13853601e+09, 7.13766422e+09, 7.13679288e+09, 7.13592200e+09,\n",
       "        7.13505157e+09, 7.13418160e+09, 7.13331208e+09, 7.13244301e+09,\n",
       "        7.13157440e+09, 7.13070624e+09, 7.12983853e+09, 7.12897128e+09,\n",
       "        7.12810448e+09, 7.12723813e+09, 7.12637224e+09, 7.12550679e+09,\n",
       "        7.12464180e+09, 7.12377726e+09, 7.12291317e+09, 7.12204953e+09,\n",
       "        7.12118635e+09, 7.12032361e+09, 7.11946132e+09, 7.11859948e+09,\n",
       "        7.11773810e+09, 7.11687716e+09, 7.11601667e+09, 7.11515663e+09,\n",
       "        7.11429704e+09, 7.11343790e+09, 7.11257921e+09, 7.11172096e+09,\n",
       "        7.11086316e+09, 7.11000581e+09, 7.10914891e+09, 7.10829245e+09,\n",
       "        7.10743644e+09, 7.10658088e+09, 7.10572577e+09, 7.10487110e+09,\n",
       "        7.10401687e+09, 7.10316309e+09, 7.10230976e+09, 7.10145687e+09,\n",
       "        7.10060443e+09, 7.09975243e+09, 7.09890088e+09, 7.09804977e+09,\n",
       "        7.09719910e+09, 7.09634888e+09, 7.09549910e+09, 7.09464977e+09,\n",
       "        7.09380088e+09, 7.09295243e+09, 7.09210442e+09, 7.09125686e+09,\n",
       "        7.09040974e+09, 7.08956306e+09, 7.08871682e+09, 7.08787102e+09,\n",
       "        7.08702566e+09, 7.08618075e+09, 7.08533627e+09, 7.08449224e+09,\n",
       "        7.08364865e+09, 7.08280549e+09, 7.08196278e+09, 7.08112050e+09,\n",
       "        7.08027867e+09, 7.07943727e+09, 7.07859631e+09, 7.07775579e+09,\n",
       "        7.07691571e+09, 7.07607607e+09, 7.07523686e+09, 7.07439809e+09,\n",
       "        7.07355976e+09, 7.07272187e+09, 7.07188441e+09, 7.07104739e+09,\n",
       "        7.07021081e+09, 7.06937466e+09, 7.06853895e+09, 7.06770368e+09,\n",
       "        7.06686884e+09, 7.06603443e+09, 7.06520046e+09, 7.06436693e+09,\n",
       "        7.06353383e+09, 7.06270116e+09, 7.06186893e+09, 7.06103713e+09,\n",
       "        7.06020576e+09, 7.05937483e+09, 7.05854433e+09, 7.05771427e+09,\n",
       "        7.05688463e+09, 7.05605543e+09, 7.05522667e+09, 7.05439833e+09,\n",
       "        7.05357042e+09, 7.05274295e+09, 7.05191591e+09, 7.05108930e+09,\n",
       "        7.05026312e+09, 7.04943737e+09, 7.04861205e+09, 7.04778716e+09,\n",
       "        7.04696270e+09, 7.04613867e+09, 7.04531507e+09, 7.04449190e+09,\n",
       "        7.04366916e+09, 7.04284685e+09, 7.04202496e+09, 7.04120350e+09,\n",
       "        7.04038248e+09, 7.03956187e+09, 7.03874170e+09, 7.03792196e+09,\n",
       "        7.03710264e+09, 7.03628374e+09, 7.03546528e+09, 7.03464724e+09,\n",
       "        7.03382963e+09, 7.03301244e+09, 7.03219568e+09, 7.03137934e+09,\n",
       "        7.03056343e+09, 7.02974795e+09, 7.02893289e+09, 7.02811825e+09,\n",
       "        7.02730404e+09, 7.02649025e+09, 7.02567689e+09, 7.02486395e+09,\n",
       "        7.02405143e+09, 7.02323934e+09, 7.02242767e+09, 7.02161642e+09,\n",
       "        7.02080560e+09, 7.01999520e+09, 7.01918521e+09, 7.01837566e+09,\n",
       "        7.01756652e+09, 7.01675780e+09, 7.01594951e+09, 7.01514164e+09,\n",
       "        7.01433418e+09, 7.01352715e+09, 7.01272054e+09, 7.01191435e+09,\n",
       "        7.01110857e+09, 7.01030322e+09, 7.00949829e+09, 7.00869377e+09,\n",
       "        7.00788968e+09, 7.00708600e+09, 7.00628274e+09, 7.00547990e+09,\n",
       "        7.00467748e+09, 7.00387548e+09, 7.00307389e+09, 7.00227272e+09,\n",
       "        7.00147197e+09, 7.00067163e+09, 6.99987171e+09, 6.99907221e+09,\n",
       "        6.99827313e+09, 6.99747445e+09, 6.99667620e+09, 6.99587836e+09,\n",
       "        6.99508094e+09, 6.99428393e+09, 6.99348734e+09, 6.99269116e+09,\n",
       "        6.99189539e+09, 6.99110004e+09, 6.99030511e+09, 6.98951058e+09,\n",
       "        6.98871647e+09, 6.98792278e+09, 6.98712950e+09, 6.98633663e+09,\n",
       "        6.98554417e+09, 6.98475212e+09, 6.98396049e+09, 6.98316927e+09,\n",
       "        6.98237846e+09, 6.98158806e+09, 6.98079808e+09, 6.98000850e+09,\n",
       "        6.97921934e+09, 6.97843058e+09, 6.97764224e+09, 6.97685431e+09,\n",
       "        6.97606679e+09, 6.97527967e+09, 6.97449297e+09, 6.97370667e+09,\n",
       "        6.97292079e+09, 6.97213531e+09, 6.97135025e+09, 6.97056559e+09,\n",
       "        6.96978134e+09, 6.96899749e+09, 6.96821406e+09, 6.96743103e+09,\n",
       "        6.96664841e+09, 6.96586620e+09, 6.96508439e+09, 6.96430299e+09,\n",
       "        6.96352200e+09, 6.96274141e+09, 6.96196123e+09, 6.96118145e+09,\n",
       "        6.96040208e+09, 6.95962312e+09, 6.95884456e+09, 6.95806641e+09,\n",
       "        6.95728866e+09, 6.95651131e+09, 6.95573437e+09, 6.95495783e+09,\n",
       "        6.95418170e+09, 6.95340597e+09, 6.95263065e+09, 6.95185572e+09,\n",
       "        6.95108120e+09, 6.95030709e+09, 6.94953337e+09, 6.94876006e+09,\n",
       "        6.94798715e+09, 6.94721464e+09, 6.94644254e+09, 6.94567083e+09,\n",
       "        6.94489953e+09, 6.94412863e+09, 6.94335812e+09, 6.94258802e+09,\n",
       "        6.94181832e+09, 6.94104902e+09, 6.94028012e+09, 6.93951162e+09,\n",
       "        6.93874352e+09, 6.93797582e+09, 6.93720851e+09, 6.93644161e+09,\n",
       "        6.93567510e+09, 6.93490900e+09, 6.93414329e+09, 6.93337798e+09,\n",
       "        6.93261306e+09, 6.93184855e+09, 6.93108443e+09, 6.93032071e+09,\n",
       "        6.92955739e+09, 6.92879446e+09, 6.92803193e+09, 6.92726979e+09,\n",
       "        6.92650806e+09, 6.92574671e+09, 6.92498577e+09, 6.92422521e+09,\n",
       "        6.92346506e+09, 6.92270530e+09, 6.92194593e+09, 6.92118696e+09,\n",
       "        6.92042838e+09, 6.91967020e+09, 6.91891241e+09, 6.91815501e+09,\n",
       "        6.91739801e+09, 6.91664140e+09, 6.91588519e+09, 6.91512937e+09,\n",
       "        6.91437394e+09, 6.91361890e+09, 6.91286425e+09, 6.91211000e+09,\n",
       "        6.91135614e+09, 6.91060267e+09, 6.90984959e+09, 6.90909691e+09,\n",
       "        6.90834461e+09, 6.90759270e+09, 6.90684119e+09, 6.90609007e+09,\n",
       "        6.90533933e+09, 6.90458899e+09, 6.90383903e+09, 6.90308947e+09,\n",
       "        6.90234029e+09, 6.90159151e+09, 6.90084311e+09, 6.90009510e+09,\n",
       "        6.89934748e+09, 6.89860025e+09, 6.89785341e+09, 6.89710695e+09,\n",
       "        6.89636088e+09, 6.89561520e+09, 6.89486991e+09, 6.89412500e+09,\n",
       "        6.89338048e+09, 6.89263635e+09, 6.89189260e+09, 6.89114924e+09,\n",
       "        6.89040627e+09, 6.88966368e+09, 6.88892147e+09, 6.88817966e+09,\n",
       "        6.88743822e+09, 6.88669718e+09, 6.88595651e+09, 6.88521623e+09,\n",
       "        6.88447634e+09, 6.88373683e+09, 6.88299770e+09, 6.88225896e+09,\n",
       "        6.88152060e+09, 6.88078263e+09, 6.88004503e+09, 6.87930782e+09,\n",
       "        6.87857100e+09, 6.87783455e+09, 6.87709849e+09, 6.87636281e+09,\n",
       "        6.87562751e+09, 6.87489260e+09, 6.87415806e+09, 6.87342391e+09,\n",
       "        6.87269013e+09, 6.87195674e+09, 6.87122373e+09, 6.87049110e+09,\n",
       "        6.86975885e+09, 6.86902698e+09, 6.86829549e+09, 6.86756437e+09,\n",
       "        6.86683364e+09, 6.86610329e+09, 6.86537331e+09, 6.86464372e+09,\n",
       "        6.86391450e+09, 6.86318566e+09, 6.86245720e+09, 6.86172912e+09,\n",
       "        6.86100142e+09, 6.86027409e+09, 6.85954714e+09, 6.85882057e+09,\n",
       "        6.85809437e+09, 6.85736856e+09, 6.85664311e+09, 6.85591805e+09,\n",
       "        6.85519336e+09, 6.85446904e+09, 6.85374511e+09, 6.85302154e+09]))"
      ]
     },
     "execution_count": 168,
     "metadata": {},
     "output_type": "execute_result"
    }
   ],
   "source": [
    "fonction_cout(X,y,theta)\n",
    "gradient(X,y,theta)\n",
    "\n",
    "learning_rate = 0.0001\n",
    "n_iterations = 1000\n",
    "\n",
    "descente_gradient(X,y,theta,learning_rate,n_iterations)"
   ]
  },
  {
   "cell_type": "markdown",
   "metadata": {},
   "source": [
    "### Entrainement du modèle\n"
   ]
  },
  {
   "cell_type": "code",
   "execution_count": 171,
   "metadata": {},
   "outputs": [
    {
     "name": "stdout",
     "output_type": "stream",
     "text": [
      "[[7117.40388732]\n",
      " [-220.9201479 ]\n",
      " [-130.1269504 ]]\n"
     ]
    },
    {
     "data": {
      "image/png": "[encoded data removed]",
      "text/plain": [
       "<Figure size 432x288 with 1 Axes>"
      ]
     },
     "metadata": {
      "needs_background": "light"
     },
     "output_type": "display_data"
    }
   ],
   "source": [
    "learning_rate = 0.0001\n",
    "n_iterations = 100\n",
    " \n",
    "theta_final, cost_history = descente_gradient(X, y, theta, learning_rate, n_iterations)\n",
    " \n",
    "print(theta_final) #parametres du modele une fois que la machine a été entrainée\n",
    " \n",
    "# création d'un vecteur prédictions qui contient les prédictions de notre modele final\n",
    "predictions = modele(X, theta_final)\n",
    "#print(predictions)\n",
    "\n",
    "# Affiche les résultats de prédictions (en rouge) par rapport a notre Dataset (en bleu)\n",
    "plt.scatter(x, y)\n",
    "plt.plot(X[:,1], predictions, c='r')\n",
    "plt.show()"
   ]
  },
  {
   "cell_type": "code",
   "execution_count": 172,
   "metadata": {},
   "outputs": [
    {
     "data": {
      "image/png": "[encoded data removed]",
      "text/plain": [
       "<Figure size 432x288 with 1 Axes>"
      ]
     },
     "metadata": {
      "needs_background": "light"
     },
     "output_type": "display_data"
    }
   ],
   "source": [
    "plt.plot(range(n_iterations), cost_history)\n",
    "plt.show()"
   ]
  },
  {
   "cell_type": "code",
   "execution_count": 173,
   "metadata": {},
   "outputs": [
    {
     "data": {
      "text/plain": [
       "0.809479460523235"
      ]
     },
     "execution_count": 173,
     "metadata": {},
     "output_type": "execute_result"
    }
   ],
   "source": [
    "coef_determination(y, predictions)"
   ]
  },
  {
   "cell_type": "markdown",
   "metadata": {},
   "source": [
    "## Régression polynomiale: data VIN"
   ]
  },
  {
   "cell_type": "code",
   "execution_count": 176,
   "metadata": {},
   "outputs": [
    {
     "data": {
      "text/html": [
       "<div>\n",
       "<style scoped>\n",
       "    .dataframe tbody tr th:only-of-type {\n",
       "        vertical-align: middle;\n",
       "    }\n",
       "\n",
       "    .dataframe tbody tr th {\n",
       "        vertical-align: top;\n",
       "    }\n",
       "\n",
       "    .dataframe thead th {\n",
       "        text-align: right;\n",
       "    }\n",
       "</style>\n",
       "<table border=\"1\" class=\"dataframe\">\n",
       "  <thead>\n",
       "    <tr style=\"text-align: right;\">\n",
       "      <th></th>\n",
       "      <th>acidité fixe</th>\n",
       "      <th>acidité volatile</th>\n",
       "      <th>acide citrique</th>\n",
       "      <th>sucre résiduel</th>\n",
       "      <th>chlorures</th>\n",
       "      <th>dioxyde de soufre libre</th>\n",
       "      <th>anhydride sulfureux total</th>\n",
       "      <th>densité</th>\n",
       "      <th>pH</th>\n",
       "      <th>sulphates</th>\n",
       "      <th>alcool</th>\n",
       "      <th>qualité</th>\n",
       "    </tr>\n",
       "  </thead>\n",
       "  <tbody>\n",
       "    <tr>\n",
       "      <th>0</th>\n",
       "      <td>7.4</td>\n",
       "      <td>0.700</td>\n",
       "      <td>0.00</td>\n",
       "      <td>1.9</td>\n",
       "      <td>0.076</td>\n",
       "      <td>11.0</td>\n",
       "      <td>34.0</td>\n",
       "      <td>0.99780</td>\n",
       "      <td>3.51</td>\n",
       "      <td>0.56</td>\n",
       "      <td>9.4</td>\n",
       "      <td>5</td>\n",
       "    </tr>\n",
       "    <tr>\n",
       "      <th>1</th>\n",
       "      <td>7.8</td>\n",
       "      <td>0.880</td>\n",
       "      <td>0.00</td>\n",
       "      <td>2.6</td>\n",
       "      <td>0.098</td>\n",
       "      <td>25.0</td>\n",
       "      <td>67.0</td>\n",
       "      <td>0.99680</td>\n",
       "      <td>3.20</td>\n",
       "      <td>0.68</td>\n",
       "      <td>9.8</td>\n",
       "      <td>5</td>\n",
       "    </tr>\n",
       "    <tr>\n",
       "      <th>2</th>\n",
       "      <td>7.8</td>\n",
       "      <td>0.760</td>\n",
       "      <td>0.04</td>\n",
       "      <td>2.3</td>\n",
       "      <td>0.092</td>\n",
       "      <td>15.0</td>\n",
       "      <td>54.0</td>\n",
       "      <td>0.99700</td>\n",
       "      <td>3.26</td>\n",
       "      <td>0.65</td>\n",
       "      <td>9.8</td>\n",
       "      <td>5</td>\n",
       "    </tr>\n",
       "    <tr>\n",
       "      <th>3</th>\n",
       "      <td>11.2</td>\n",
       "      <td>0.280</td>\n",
       "      <td>0.56</td>\n",
       "      <td>1.9</td>\n",
       "      <td>0.075</td>\n",
       "      <td>17.0</td>\n",
       "      <td>60.0</td>\n",
       "      <td>0.99800</td>\n",
       "      <td>3.16</td>\n",
       "      <td>0.58</td>\n",
       "      <td>9.8</td>\n",
       "      <td>6</td>\n",
       "    </tr>\n",
       "    <tr>\n",
       "      <th>4</th>\n",
       "      <td>7.4</td>\n",
       "      <td>0.700</td>\n",
       "      <td>0.00</td>\n",
       "      <td>1.9</td>\n",
       "      <td>0.076</td>\n",
       "      <td>11.0</td>\n",
       "      <td>34.0</td>\n",
       "      <td>0.99780</td>\n",
       "      <td>3.51</td>\n",
       "      <td>0.56</td>\n",
       "      <td>9.4</td>\n",
       "      <td>5</td>\n",
       "    </tr>\n",
       "    <tr>\n",
       "      <th>...</th>\n",
       "      <td>...</td>\n",
       "      <td>...</td>\n",
       "      <td>...</td>\n",
       "      <td>...</td>\n",
       "      <td>...</td>\n",
       "      <td>...</td>\n",
       "      <td>...</td>\n",
       "      <td>...</td>\n",
       "      <td>...</td>\n",
       "      <td>...</td>\n",
       "      <td>...</td>\n",
       "      <td>...</td>\n",
       "    </tr>\n",
       "    <tr>\n",
       "      <th>1594</th>\n",
       "      <td>6.2</td>\n",
       "      <td>0.600</td>\n",
       "      <td>0.08</td>\n",
       "      <td>2.0</td>\n",
       "      <td>0.090</td>\n",
       "      <td>32.0</td>\n",
       "      <td>44.0</td>\n",
       "      <td>0.99490</td>\n",
       "      <td>3.45</td>\n",
       "      <td>0.58</td>\n",
       "      <td>10.5</td>\n",
       "      <td>5</td>\n",
       "    </tr>\n",
       "    <tr>\n",
       "      <th>1595</th>\n",
       "      <td>5.9</td>\n",
       "      <td>0.550</td>\n",
       "      <td>0.10</td>\n",
       "      <td>2.2</td>\n",
       "      <td>0.062</td>\n",
       "      <td>39.0</td>\n",
       "      <td>51.0</td>\n",
       "      <td>0.99512</td>\n",
       "      <td>3.52</td>\n",
       "      <td>0.76</td>\n",
       "      <td>11.2</td>\n",
       "      <td>6</td>\n",
       "    </tr>\n",
       "    <tr>\n",
       "      <th>1596</th>\n",
       "      <td>6.3</td>\n",
       "      <td>0.510</td>\n",
       "      <td>0.13</td>\n",
       "      <td>2.3</td>\n",
       "      <td>0.076</td>\n",
       "      <td>29.0</td>\n",
       "      <td>40.0</td>\n",
       "      <td>0.99574</td>\n",
       "      <td>3.42</td>\n",
       "      <td>0.75</td>\n",
       "      <td>11.0</td>\n",
       "      <td>6</td>\n",
       "    </tr>\n",
       "    <tr>\n",
       "      <th>1597</th>\n",
       "      <td>5.9</td>\n",
       "      <td>0.645</td>\n",
       "      <td>0.12</td>\n",
       "      <td>2.0</td>\n",
       "      <td>0.075</td>\n",
       "      <td>32.0</td>\n",
       "      <td>44.0</td>\n",
       "      <td>0.99547</td>\n",
       "      <td>3.57</td>\n",
       "      <td>0.71</td>\n",
       "      <td>10.2</td>\n",
       "      <td>5</td>\n",
       "    </tr>\n",
       "    <tr>\n",
       "      <th>1598</th>\n",
       "      <td>6.0</td>\n",
       "      <td>0.310</td>\n",
       "      <td>0.47</td>\n",
       "      <td>3.6</td>\n",
       "      <td>0.067</td>\n",
       "      <td>18.0</td>\n",
       "      <td>42.0</td>\n",
       "      <td>0.99549</td>\n",
       "      <td>3.39</td>\n",
       "      <td>0.66</td>\n",
       "      <td>11.0</td>\n",
       "      <td>6</td>\n",
       "    </tr>\n",
       "  </tbody>\n",
       "</table>\n",
       "<p>1599 rows × 12 columns</p>\n",
       "</div>"
      ],
      "text/plain": [
       "      acidité fixe  acidité volatile  acide citrique  sucre résiduel  \\\n",
       "0              7.4             0.700            0.00             1.9   \n",
       "1              7.8             0.880            0.00             2.6   \n",
       "2              7.8             0.760            0.04             2.3   \n",
       "3             11.2             0.280            0.56             1.9   \n",
       "4              7.4             0.700            0.00             1.9   \n",
       "...            ...               ...             ...             ...   \n",
       "1594           6.2             0.600            0.08             2.0   \n",
       "1595           5.9             0.550            0.10             2.2   \n",
       "1596           6.3             0.510            0.13             2.3   \n",
       "1597           5.9             0.645            0.12             2.0   \n",
       "1598           6.0             0.310            0.47             3.6   \n",
       "\n",
       "      chlorures  dioxyde de soufre libre  anhydride sulfureux total  densité  \\\n",
       "0         0.076                     11.0                       34.0  0.99780   \n",
       "1         0.098                     25.0                       67.0  0.99680   \n",
       "2         0.092                     15.0                       54.0  0.99700   \n",
       "3         0.075                     17.0                       60.0  0.99800   \n",
       "4         0.076                     11.0                       34.0  0.99780   \n",
       "...         ...                      ...                        ...      ...   \n",
       "1594      0.090                     32.0                       44.0  0.99490   \n",
       "1595      0.062                     39.0                       51.0  0.99512   \n",
       "1596      0.076                     29.0                       40.0  0.99574   \n",
       "1597      0.075                     32.0                       44.0  0.99547   \n",
       "1598      0.067                     18.0                       42.0  0.99549   \n",
       "\n",
       "        pH  sulphates  alcool  qualité  \n",
       "0     3.51       0.56     9.4        5  \n",
       "1     3.20       0.68     9.8        5  \n",
       "2     3.26       0.65     9.8        5  \n",
       "3     3.16       0.58     9.8        6  \n",
       "4     3.51       0.56     9.4        5  \n",
       "...    ...        ...     ...      ...  \n",
       "1594  3.45       0.58    10.5        5  \n",
       "1595  3.52       0.76    11.2        6  \n",
       "1596  3.42       0.75    11.0        6  \n",
       "1597  3.57       0.71    10.2        5  \n",
       "1598  3.39       0.66    11.0        6  \n",
       "\n",
       "[1599 rows x 12 columns]"
      ]
     },
     "execution_count": 176,
     "metadata": {},
     "output_type": "execute_result"
    }
   ],
   "source": [
    "#1-Récupération des données\n",
    "\n",
    "vin=pd.read_csv(\"./Data_Reg/qualite-vin-rouge.csv\")\n",
    "dataframe04= pd.DataFrame(vin)\n",
    "dataframe04"
   ]
  },
  {
   "cell_type": "code",
   "execution_count": 177,
   "metadata": {},
   "outputs": [
    {
     "data": {
      "text/plain": [
       "qualité                      1.000000\n",
       "alcool                       0.476166\n",
       "acidité volatile             0.390558\n",
       "sulphates                    0.251397\n",
       "acide citrique               0.226373\n",
       "anhydride sulfureux total    0.185100\n",
       "densité                      0.174919\n",
       "chlorures                    0.128907\n",
       "acidité fixe                 0.124052\n",
       "pH                           0.057731\n",
       "dioxyde de soufre libre      0.050656\n",
       "sucre résiduel               0.013732\n",
       "dtype: float64"
      ]
     },
     "execution_count": 177,
     "metadata": {},
     "output_type": "execute_result"
    }
   ],
   "source": [
    "#Recherche de la corrélation dans la colonne MEDV avec valeur absolue car 1 et -1 sont corrélées\n",
    "dataframe04.corrwith(dataframe04['qualité'], method='pearson').abs().sort_values(ascending=False)"
   ]
  },
  {
   "cell_type": "code",
   "execution_count": 178,
   "metadata": {},
   "outputs": [
    {
     "name": "stdout",
     "output_type": "stream",
     "text": [
      "shape de x:  (1599, 2)\n",
      "--------------------------------------------------------------\n",
      "shape de X:  (1599, 6)\n",
      "--------------------------------------------------------------\n",
      "shape de y:  (1599, 1)\n",
      "--------------------------------------------------------------\n"
     ]
    },
    {
     "data": {
      "text/plain": [
       "Text(0, 0.5, 'Qualité')"
      ]
     },
     "execution_count": 178,
     "metadata": {},
     "output_type": "execute_result"
    },
    {
     "data": {
      "image/png": "[encoded data removed]",
      "text/plain": [
       "<Figure size 432x288 with 1 Axes>"
      ]
     },
     "metadata": {
      "needs_background": "light"
     },
     "output_type": "display_data"
    }
   ],
   "source": [
    "selection_col=dataframe04.iloc[: , [1,10]] #Selection de la colonne 2: 'acid volatile' et 11: 'alcool'\n",
    "\n",
    "x = np.array(selection_col)\n",
    "\n",
    "col_un=np.ones(x.shape)\n",
    "\n",
    "X = np.hstack((x, col_un))\n",
    "X = np.hstack((x**2,X))\n",
    "\n",
    "\n",
    "\n",
    "y = np.array(dataframe04['qualité'])\n",
    "y = y.reshape((len(y),1))\n",
    "\n",
    "print(\"shape de x: \", x.shape)\n",
    "print('--------------------------------------------------------------')\n",
    "print(\"shape de X: \", X.shape)\n",
    "print('--------------------------------------------------------------')\n",
    "print(\"shape de y: \", y.shape)\n",
    "print('--------------------------------------------------------------')\n",
    "\n",
    "plt.scatter(x[:,0],y)\n",
    "plt.xlabel('acide volatile')\n",
    "plt.ylabel('Qualité')\n",
    "\n",
    "plt.scatter(x[:,1],y)\n",
    "plt.xlabel('alcool')\n",
    "plt.ylabel('Qualité')"
   ]
  },
  {
   "cell_type": "code",
   "execution_count": 182,
   "metadata": {},
   "outputs": [],
   "source": [
    "#Création du theta aléatoire 6 lignes/1 colonne en lien avec le nb de paramètres \n",
    "#(ici a,b et c donc 3 paramètres)\n",
    "theta = np.random.randn(6,1)"
   ]
  },
  {
   "cell_type": "code",
   "execution_count": 180,
   "metadata": {},
   "outputs": [
    {
     "data": {
      "image/png": "[encoded data removed]",
      "text/plain": [
       "<Figure size 432x288 with 1 Axes>"
      ]
     },
     "metadata": {
      "needs_background": "light"
     },
     "output_type": "display_data"
    }
   ],
   "source": [
    "modele(X, theta)\n",
    "\n",
    "plt.scatter(x[:,0],y)\n",
    "plt.plot(x,modele(X,theta), c='r')\n",
    "\n",
    "\n",
    "plt.show() "
   ]
  },
  {
   "cell_type": "markdown",
   "metadata": {},
   "source": [
    "#### La régression linéaire n'est pas adaptée"
   ]
  },
  {
   "cell_type": "markdown",
   "metadata": {},
   "source": [
    "# Scikit-Learn :\n",
    "\n",
    "- Refaire les 3 régressions avec le module Scikit-Learn\n",
    "- Comparez les résultats de prédiction avec la méthode normale\n",
    "\n",
    "\n",
    "\n",
    "**Pour aller plus loin :**\n",
    "\n",
    "-  Réaliser une interface graphique qui permet de parcourir un jeu de données, le visualiser.\n",
    "- Dans l’interface on peut avoir le choix d’utiliser un modèle spécifique (régression linéaire, polynomiale, multiple) pour l’appliquer à un jeu de données, de régler les paramètres (learning rate, iterations). Cette interface va ensuite nous permettre de visualiser notre modèle sur le jeu de données, de visualiser la fonction de coût et afficher les performances de notre modèle.\n"
   ]
  },
  {
   "cell_type": "markdown",
   "metadata": {},
   "source": [
    "## Régression linéaire:"
   ]
  },
  {
   "cell_type": "code",
   "execution_count": 202,
   "metadata": {},
   "outputs": [
    {
     "data": {
      "text/html": [
       "<div>\n",
       "<style scoped>\n",
       "    .dataframe tbody tr th:only-of-type {\n",
       "        vertical-align: middle;\n",
       "    }\n",
       "\n",
       "    .dataframe tbody tr th {\n",
       "        vertical-align: top;\n",
       "    }\n",
       "\n",
       "    .dataframe thead th {\n",
       "        text-align: right;\n",
       "    }\n",
       "</style>\n",
       "<table border=\"1\" class=\"dataframe\">\n",
       "  <thead>\n",
       "    <tr style=\"text-align: right;\">\n",
       "      <th></th>\n",
       "      <th>heure_rev</th>\n",
       "      <th>note</th>\n",
       "    </tr>\n",
       "  </thead>\n",
       "  <tbody>\n",
       "    <tr>\n",
       "      <th>0</th>\n",
       "      <td>2</td>\n",
       "      <td>10</td>\n",
       "    </tr>\n",
       "    <tr>\n",
       "      <th>1</th>\n",
       "      <td>3</td>\n",
       "      <td>12</td>\n",
       "    </tr>\n",
       "    <tr>\n",
       "      <th>2</th>\n",
       "      <td>4</td>\n",
       "      <td>20</td>\n",
       "    </tr>\n",
       "    <tr>\n",
       "      <th>3</th>\n",
       "      <td>5</td>\n",
       "      <td>22</td>\n",
       "    </tr>\n",
       "    <tr>\n",
       "      <th>4</th>\n",
       "      <td>6</td>\n",
       "      <td>21</td>\n",
       "    </tr>\n",
       "  </tbody>\n",
       "</table>\n",
       "</div>"
      ],
      "text/plain": [
       "   heure_rev  note\n",
       "0          2    10\n",
       "1          3    12\n",
       "2          4    20\n",
       "3          5    22\n",
       "4          6    21"
      ]
     },
     "execution_count": 202,
     "metadata": {},
     "output_type": "execute_result"
    }
   ],
   "source": [
    "#1-Récupération des données\n",
    "\n",
    "reg_simple=pd.read_csv(\"./Data_Reg/reg_simple.csv\")\n",
    "reg_simple\n",
    "\n",
    "\n",
    "#2-Visualisation des données\n",
    "\n",
    "dataframe= pd.DataFrame(reg_simple)\n",
    "\n",
    "dataframe.head()"
   ]
  },
  {
   "cell_type": "code",
   "execution_count": 203,
   "metadata": {},
   "outputs": [
    {
     "name": "stdout",
     "output_type": "stream",
     "text": [
      "shape de x:  (27, 1)\n",
      "--------------------------------------------------------------\n",
      "shape de y:  (27, 1)\n",
      "--------------------------------------------------------------\n"
     ]
    },
    {
     "data": {
      "image/png": "[encoded data removed]",
      "text/plain": [
       "<Figure size 432x288 with 1 Axes>"
      ]
     },
     "metadata": {
      "needs_background": "light"
     },
     "output_type": "display_data"
    }
   ],
   "source": [
    "x = np.array(dataframe['heure_rev']) # Variable explicative\n",
    "x = x.reshape((len(x),1))\n",
    "\n",
    "y = np.array(dataframe['note'])\n",
    "y = y.reshape((len(y),1))\n",
    "\n",
    "x_base=x\n",
    "y_base=y\n",
    "\n",
    "print(\"shape de x: \", x.shape)\n",
    "print('--------------------------------------------------------------')\n",
    "print(\"shape de y: \", y.shape)\n",
    "print('--------------------------------------------------------------')\n",
    "\n",
    "\n",
    "plt.scatter(x,y)\n",
    "plt.xlabel('Heures_revision')\n",
    "plt.ylabel('Note')\n",
    "\n",
    "plt.show() "
   ]
  },
  {
   "cell_type": "code",
   "execution_count": 204,
   "metadata": {},
   "outputs": [
    {
     "name": "stdout",
     "output_type": "stream",
     "text": [
      "coef_determination: 0.9733203596683907\n"
     ]
    }
   ],
   "source": [
    "#Régression linéaire simple\n",
    "from sklearn.linear_model import LinearRegression\n",
    "\n",
    "#instancier \n",
    "regressor = LinearRegression()\n",
    "\n",
    "#entrainer\n",
    "regressor.fit(x, y)\n",
    "\n",
    "#Coefficient de détermination\n",
    "coef_determination=regressor.score(x,y)\n",
    "print(\"coef_determination:\",coef_determination)\n",
    "\n",
    "#Predictions\n",
    "predictions=regressor.predict(x)"
   ]
  },
  {
   "cell_type": "code",
   "execution_count": 205,
   "metadata": {},
   "outputs": [
    {
     "data": {
      "text/plain": [
       "<function matplotlib.pyplot.show(*args, **kw)>"
      ]
     },
     "execution_count": 205,
     "metadata": {},
     "output_type": "execute_result"
    },
    {
     "data": {
      "image/png": "[encoded data removed]",
      "text/plain": [
       "<Figure size 432x288 with 1 Axes>"
      ]
     },
     "metadata": {
      "needs_background": "light"
     },
     "output_type": "display_data"
    }
   ],
   "source": [
    "#visuel\n",
    "\n",
    "plt.scatter(x_base, y_base, color = 'blue')\n",
    "plt.plot(x,predictions, color = 'red')\n",
    "#plt.plot(x,regressor.predict(x), color = 'red')\n",
    "\n",
    "plt.title('titre')\n",
    "plt.xlabel(\"heure_rev\")\n",
    "plt.ylabel('notes')\n",
    "plt.show"
   ]
  },
  {
   "cell_type": "markdown",
   "metadata": {},
   "source": [
    "## Régression polynomiale:"
   ]
  },
  {
   "cell_type": "code",
   "execution_count": 206,
   "metadata": {},
   "outputs": [
    {
     "data": {
      "text/html": [
       "<div>\n",
       "<style scoped>\n",
       "    .dataframe tbody tr th:only-of-type {\n",
       "        vertical-align: middle;\n",
       "    }\n",
       "\n",
       "    .dataframe tbody tr th {\n",
       "        vertical-align: top;\n",
       "    }\n",
       "\n",
       "    .dataframe thead th {\n",
       "        text-align: right;\n",
       "    }\n",
       "</style>\n",
       "<table border=\"1\" class=\"dataframe\">\n",
       "  <thead>\n",
       "    <tr style=\"text-align: right;\">\n",
       "      <th></th>\n",
       "      <th>CRIM</th>\n",
       "      <th>ZN</th>\n",
       "      <th>INDUS</th>\n",
       "      <th>CHAS</th>\n",
       "      <th>NOX</th>\n",
       "      <th>RM</th>\n",
       "      <th>AGE</th>\n",
       "      <th>DIS</th>\n",
       "      <th>RAD</th>\n",
       "      <th>TAX</th>\n",
       "      <th>PTRATIO</th>\n",
       "      <th>B</th>\n",
       "      <th>LSTAT</th>\n",
       "      <th>MEDV</th>\n",
       "    </tr>\n",
       "  </thead>\n",
       "  <tbody>\n",
       "    <tr>\n",
       "      <th>0</th>\n",
       "      <td>0.00632</td>\n",
       "      <td>18.0</td>\n",
       "      <td>2.31</td>\n",
       "      <td>0</td>\n",
       "      <td>0.538</td>\n",
       "      <td>6.575</td>\n",
       "      <td>65.2</td>\n",
       "      <td>4.0900</td>\n",
       "      <td>1</td>\n",
       "      <td>296</td>\n",
       "      <td>15.3</td>\n",
       "      <td>396.90</td>\n",
       "      <td>4.98</td>\n",
       "      <td>24.0</td>\n",
       "    </tr>\n",
       "    <tr>\n",
       "      <th>1</th>\n",
       "      <td>0.02731</td>\n",
       "      <td>0.0</td>\n",
       "      <td>7.07</td>\n",
       "      <td>0</td>\n",
       "      <td>0.469</td>\n",
       "      <td>6.421</td>\n",
       "      <td>78.9</td>\n",
       "      <td>4.9671</td>\n",
       "      <td>2</td>\n",
       "      <td>242</td>\n",
       "      <td>17.8</td>\n",
       "      <td>396.90</td>\n",
       "      <td>9.14</td>\n",
       "      <td>21.6</td>\n",
       "    </tr>\n",
       "    <tr>\n",
       "      <th>2</th>\n",
       "      <td>0.02729</td>\n",
       "      <td>0.0</td>\n",
       "      <td>7.07</td>\n",
       "      <td>0</td>\n",
       "      <td>0.469</td>\n",
       "      <td>7.185</td>\n",
       "      <td>61.1</td>\n",
       "      <td>4.9671</td>\n",
       "      <td>2</td>\n",
       "      <td>242</td>\n",
       "      <td>17.8</td>\n",
       "      <td>392.83</td>\n",
       "      <td>4.03</td>\n",
       "      <td>34.7</td>\n",
       "    </tr>\n",
       "    <tr>\n",
       "      <th>3</th>\n",
       "      <td>0.03237</td>\n",
       "      <td>0.0</td>\n",
       "      <td>2.18</td>\n",
       "      <td>0</td>\n",
       "      <td>0.458</td>\n",
       "      <td>6.998</td>\n",
       "      <td>45.8</td>\n",
       "      <td>6.0622</td>\n",
       "      <td>3</td>\n",
       "      <td>222</td>\n",
       "      <td>18.7</td>\n",
       "      <td>394.63</td>\n",
       "      <td>2.94</td>\n",
       "      <td>33.4</td>\n",
       "    </tr>\n",
       "    <tr>\n",
       "      <th>4</th>\n",
       "      <td>0.06905</td>\n",
       "      <td>0.0</td>\n",
       "      <td>2.18</td>\n",
       "      <td>0</td>\n",
       "      <td>0.458</td>\n",
       "      <td>7.147</td>\n",
       "      <td>54.2</td>\n",
       "      <td>6.0622</td>\n",
       "      <td>3</td>\n",
       "      <td>222</td>\n",
       "      <td>18.7</td>\n",
       "      <td>396.90</td>\n",
       "      <td>5.33</td>\n",
       "      <td>36.2</td>\n",
       "    </tr>\n",
       "  </tbody>\n",
       "</table>\n",
       "</div>"
      ],
      "text/plain": [
       "      CRIM    ZN  INDUS  CHAS    NOX     RM   AGE     DIS  RAD  TAX  PTRATIO  \\\n",
       "0  0.00632  18.0   2.31     0  0.538  6.575  65.2  4.0900    1  296     15.3   \n",
       "1  0.02731   0.0   7.07     0  0.469  6.421  78.9  4.9671    2  242     17.8   \n",
       "2  0.02729   0.0   7.07     0  0.469  7.185  61.1  4.9671    2  242     17.8   \n",
       "3  0.03237   0.0   2.18     0  0.458  6.998  45.8  6.0622    3  222     18.7   \n",
       "4  0.06905   0.0   2.18     0  0.458  7.147  54.2  6.0622    3  222     18.7   \n",
       "\n",
       "        B  LSTAT  MEDV  \n",
       "0  396.90   4.98  24.0  \n",
       "1  396.90   9.14  21.6  \n",
       "2  392.83   4.03  34.7  \n",
       "3  394.63   2.94  33.4  \n",
       "4  396.90   5.33  36.2  "
      ]
     },
     "execution_count": 206,
     "metadata": {},
     "output_type": "execute_result"
    }
   ],
   "source": [
    "#1-Récupération des données\n",
    "\n",
    "boston=pd.read_csv(\"./Data_Reg/boston_house_prices.csv\")\n",
    "dataframe02= pd.DataFrame(boston)\n",
    "\n",
    "dataframe02.head()\n"
   ]
  },
  {
   "cell_type": "code",
   "execution_count": 207,
   "metadata": {},
   "outputs": [
    {
     "name": "stdout",
     "output_type": "stream",
     "text": [
      "shape de X:  (506, 2)\n",
      "--------------------------------------------------------------\n",
      "shape de Y:  (506, 1)\n",
      "--------------------------------------------------------------\n"
     ]
    }
   ],
   "source": [
    "\n",
    "selection_col=dataframe02.iloc[: , [5,12]] #Selection de la colonne 5: 'RM' et 12: 'LSTA'\n",
    "\n",
    "X = np.array(selection_col) # Variables explicatives\n",
    "\n",
    "Y = np.array(dataframe02['MEDV'])\n",
    "Y = Y.reshape((len(X),1))\n",
    "\n",
    "print(\"shape de X: \", X.shape)\n",
    "print('--------------------------------------------------------------')\n",
    "print(\"shape de Y: \", Y.shape)\n",
    "print('--------------------------------------------------------------')"
   ]
  },
  {
   "cell_type": "code",
   "execution_count": 208,
   "metadata": {},
   "outputs": [
    {
     "name": "stdout",
     "output_type": "stream",
     "text": [
      "(404, 2)\n",
      "(102, 2)\n",
      "(404, 1)\n",
      "(102, 1)\n"
     ]
    }
   ],
   "source": [
    "#base d'apprentissage et base de test\n",
    "from sklearn.model_selection import train_test_split\n",
    "  \n",
    "X_train, X_test, Y_train, Y_test = train_test_split(X, Y, test_size = 0.2, random_state=0)\n",
    "print(X_train.shape)\n",
    "print(X_test.shape)\n",
    "print(Y_train.shape)\n",
    "print(Y_test.shape)"
   ]
  },
  {
   "cell_type": "code",
   "execution_count": 209,
   "metadata": {},
   "outputs": [],
   "source": [
    "from sklearn.preprocessing import PolynomialFeatures\n",
    "from sklearn.metrics import r2_score\n",
    "\n",
    "#Fonction pour entrainer et choisir notre modèle en fonction du degré du polynome\n",
    " \n",
    "def evalPolynomialRegression(degree):\n",
    "    #entrainement du modèle\n",
    "    polynomial_features= PolynomialFeatures(degree=degree)\n",
    "    X_train_poly = polynomial_features.fit_transform(X_train)\n",
    "    X_test_poly = polynomial_features.fit_transform(X_test)\n",
    "    model = LinearRegression()\n",
    "    model.fit(X_train_poly, Y_train)\n",
    "    \n",
    "    # Evaluation du train set\n",
    "    y_train_predict = model.predict(X_train_poly)\n",
    "    rmse = (np.sqrt(mean_squared_error(Y_train, y_train_predict)))\n",
    "    r2 = r2_score(Y_train, y_train_predict)\n",
    " \n",
    "    print(\"-------------TRAIN SET - DEGREE: {}----------------\".format(degree))\n",
    "    #print(\"---------------------------------------------------\")\n",
    "    print('Erreur quadratique moyenne: {}'.format(rmse))\n",
    "    print('Le score R2 est {}'.format(r2))\n",
    "    print('\\n')\n",
    " \n",
    "    # Evaluation du test set\n",
    "    y_test_predict = model.predict(X_test_poly)\n",
    "    rmse = (np.sqrt(mean_squared_error(Y_test, y_test_predict)))\n",
    "    r2 = r2_score(Y_test, y_test_predict)\n",
    " \n",
    "    print(\"-------------TEST SET - DEGREE: {}-----------------\".format(degree))\n",
    "    #print(\"---------------------------------------------------\")\n",
    "    print('Erreur quadratique moyenne: {}'.format(rmse))\n",
    "    print('Le score R2 est {}'.format(r2))\n",
    "    \n",
    "    return model,r2 ,rmse"
   ]
  },
  {
   "cell_type": "code",
   "execution_count": 213,
   "metadata": {},
   "outputs": [
    {
     "name": "stdout",
     "output_type": "stream",
     "text": [
      "-------------TRAIN SET - DEGREE: 2----------------\n",
      "Erreur quadratique moyenne: 4.319658995006361\n",
      "Le score R2 est 0.780847562402052\n",
      "\n",
      "\n",
      "-------------TEST SET - DEGREE: 2-----------------\n",
      "Erreur quadratique moyenne: 5.305183490052368\n",
      "Le score R2 est 0.6543594328054192\n",
      "--------------------------------------------\n",
      "--------------------------------------------\n",
      "\n",
      "-------------TRAIN SET - DEGREE: 3----------------\n",
      "Erreur quadratique moyenne: 4.1325239288322075\n",
      "Le score R2 est 0.7994243852918262\n",
      "\n",
      "\n",
      "-------------TEST SET - DEGREE: 3-----------------\n",
      "Erreur quadratique moyenne: 5.344826137047589\n",
      "Le score R2 est 0.6491745787543439\n",
      "--------------------------------------------\n",
      "--------------------------------------------\n",
      "\n",
      "-------------TRAIN SET - DEGREE: 4----------------\n",
      "Erreur quadratique moyenne: 3.7667630276293247\n",
      "Le score R2 est 0.8333581893171975\n",
      "\n",
      "\n",
      "-------------TEST SET - DEGREE: 4-----------------\n",
      "Erreur quadratique moyenne: 5.830886161269425\n",
      "Le score R2 est 0.582464875694864\n",
      "--------------------------------------------\n",
      "--------------------------------------------\n",
      "\n",
      "-------------TRAIN SET - DEGREE: 5----------------\n",
      "Erreur quadratique moyenne: 3.5924384100729205\n",
      "Le score R2 est 0.8484255363015708\n",
      "\n",
      "\n",
      "-------------TEST SET - DEGREE: 5-----------------\n",
      "Erreur quadratique moyenne: 5.848196870684914\n",
      "Le score R2 est 0.5799820427321465\n",
      "--------------------------------------------\n",
      "--------------------------------------------\n",
      "\n",
      "-------------TRAIN SET - DEGREE: 6----------------\n",
      "Erreur quadratique moyenne: 3.5145632252307153\n",
      "Le score R2 est 0.8549258285670516\n",
      "\n",
      "\n",
      "-------------TEST SET - DEGREE: 6-----------------\n",
      "Erreur quadratique moyenne: 5.909545367278572\n",
      "Le score R2 est 0.5711237148807864\n",
      "--------------------------------------------\n",
      "--------------------------------------------\n",
      "\n",
      "-------------TRAIN SET - DEGREE: 7----------------\n",
      "Erreur quadratique moyenne: 3.484366730338196\n",
      "Le score R2 est 0.8574080216413222\n",
      "\n",
      "\n",
      "-------------TEST SET - DEGREE: 7-----------------\n",
      "Erreur quadratique moyenne: 13.45649883370956\n",
      "Le score R2 est -1.2237606780596346\n",
      "--------------------------------------------\n",
      "--------------------------------------------\n",
      "\n",
      "-------------TRAIN SET - DEGREE: 8----------------\n",
      "Erreur quadratique moyenne: 3.517946510155776\n",
      "Le score R2 est 0.8546463835990536\n",
      "\n",
      "\n",
      "-------------TEST SET - DEGREE: 8-----------------\n",
      "Erreur quadratique moyenne: 20.951409431950175\n",
      "Le score R2 est -4.390764728420329\n",
      "--------------------------------------------\n",
      "--------------------------------------------\n",
      "\n",
      "-------------TRAIN SET - DEGREE: 9----------------\n",
      "Erreur quadratique moyenne: 3.4795930302509426\n",
      "Le score R2 est 0.8577984656485784\n",
      "\n",
      "\n",
      "-------------TEST SET - DEGREE: 9-----------------\n",
      "Erreur quadratique moyenne: 13.914877999438913\n",
      "Le score R2 est -1.3778403708817568\n",
      "--------------------------------------------\n",
      "--------------------------------------------\n",
      "\n"
     ]
    }
   ],
   "source": [
    "#Boucle pour voir chaque degrés\n",
    "for i in range(2,10):\n",
    "    evalPolynomialRegression(i)\n",
    "    print('--------------------------------------------')\n",
    "    print('--------------------------------------------\\n')"
   ]
  },
  {
   "cell_type": "markdown",
   "metadata": {},
   "source": [
    "## Salaire en fonction de la qualification"
   ]
  },
  {
   "cell_type": "code",
   "execution_count": 215,
   "metadata": {},
   "outputs": [
    {
     "data": {
      "text/html": [
       "<div>\n",
       "<style scoped>\n",
       "    .dataframe tbody tr th:only-of-type {\n",
       "        vertical-align: middle;\n",
       "    }\n",
       "\n",
       "    .dataframe tbody tr th {\n",
       "        vertical-align: top;\n",
       "    }\n",
       "\n",
       "    .dataframe thead th {\n",
       "        text-align: right;\n",
       "    }\n",
       "</style>\n",
       "<table border=\"1\" class=\"dataframe\">\n",
       "  <thead>\n",
       "    <tr style=\"text-align: right;\">\n",
       "      <th></th>\n",
       "      <th>Position</th>\n",
       "      <th>Level</th>\n",
       "      <th>Salary</th>\n",
       "    </tr>\n",
       "  </thead>\n",
       "  <tbody>\n",
       "    <tr>\n",
       "      <th>0</th>\n",
       "      <td>Project Analyste</td>\n",
       "      <td>1</td>\n",
       "      <td>45000</td>\n",
       "    </tr>\n",
       "    <tr>\n",
       "      <th>1</th>\n",
       "      <td>Ingenieur</td>\n",
       "      <td>2</td>\n",
       "      <td>50000</td>\n",
       "    </tr>\n",
       "    <tr>\n",
       "      <th>2</th>\n",
       "      <td>Senior Consultant</td>\n",
       "      <td>3</td>\n",
       "      <td>60000</td>\n",
       "    </tr>\n",
       "    <tr>\n",
       "      <th>3</th>\n",
       "      <td>Manager</td>\n",
       "      <td>4</td>\n",
       "      <td>80000</td>\n",
       "    </tr>\n",
       "    <tr>\n",
       "      <th>4</th>\n",
       "      <td>Country Manager</td>\n",
       "      <td>5</td>\n",
       "      <td>110000</td>\n",
       "    </tr>\n",
       "  </tbody>\n",
       "</table>\n",
       "</div>"
      ],
      "text/plain": [
       "            Position  Level  Salary\n",
       "0   Project Analyste      1   45000\n",
       "1          Ingenieur      2   50000\n",
       "2  Senior Consultant      3   60000\n",
       "3            Manager      4   80000\n",
       "4    Country Manager      5  110000"
      ]
     },
     "execution_count": 215,
     "metadata": {},
     "output_type": "execute_result"
    }
   ],
   "source": [
    "pos = pd.read_csv('Data_Reg/Position_Salaries.csv')\n",
    "pos.head()"
   ]
  },
  {
   "cell_type": "code",
   "execution_count": 217,
   "metadata": {},
   "outputs": [
    {
     "data": {
      "image/png": "[encoded data removed]",
      "text/plain": [
       "<Figure size 432x288 with 1 Axes>"
      ]
     },
     "metadata": {
      "needs_background": "light"
     },
     "output_type": "display_data"
    },
    {
     "name": "stdout",
     "output_type": "stream",
     "text": [
      "la méthode utilisée sera donc la régression polynomiale\n"
     ]
    }
   ],
   "source": [
    "plt.figure()\n",
    "\n",
    "plt.title('Salaire en fonction de la qualification')\n",
    "plt.plot(pos['Level'], pos['Salary'])\n",
    "plt.xlabel(\"salaire annuel\")\n",
    "plt.ylabel(\"qualification\")\n",
    "plt.show()\n"
   ]
  },
  {
   "cell_type": "code",
   "execution_count": 222,
   "metadata": {},
   "outputs": [
    {
     "name": "stdout",
     "output_type": "stream",
     "text": [
      "taille features : (10, 3)\n",
      "taille target : (10, 1)\n",
      "taille theta : (3, 1)\n"
     ]
    }
   ],
   "source": [
    "def verif_shape(X,y,theta):\n",
    "    print(f'taille features : {X.shape}')\n",
    "    print(f'taille target : {y.shape}')\n",
    "    print(f'taille theta : {theta.shape}')\n",
    "    \n",
    "#test avec une courbe du second degré\n",
    "x1 = np.array(pos['Level'])\n",
    "x1 = x1.reshape(x1.shape[0], 1)\n",
    "x2 = x1**2\n",
    "ones = np.ones((x1.shape[0], 1))\n",
    "X = np.hstack((x2,x1,ones))\n",
    "\n",
    "y = np.array(pos['Salary'])\n",
    "y = y.reshape(( y.shape[0], 1 ))\n",
    "\n",
    "theta = np.random.randn(X.shape[1], 1)\n",
    "\n",
    "# vérification des dimensions des matrices : \n",
    "verif_shape(X,y,theta)"
   ]
  },
  {
   "cell_type": "code",
   "execution_count": 224,
   "metadata": {},
   "outputs": [
    {
     "data": {
      "text/plain": [
       "<matplotlib.legend.Legend at 0x19b70303820>"
      ]
     },
     "execution_count": 224,
     "metadata": {},
     "output_type": "execute_result"
    },
    {
     "data": {
      "image/png": "[encoded data removed]",
      "text/plain": [
       "<Figure size 432x288 with 1 Axes>"
      ]
     },
     "metadata": {
      "needs_background": "light"
     },
     "output_type": "display_data"
    }
   ],
   "source": [
    "n_iterations = 300\n",
    "learning_rate = 0.0001\n",
    "\n",
    "# apprentissage \n",
    "theta_final, cost_history = descente_gradient(X, y, theta, learning_rate, n_iterations)\n",
    "\n",
    "predictions = modele(X, theta_final)\n",
    "\n",
    "plt.plot(pos['Level'], predictions, label=\"pred\", c='r')\n",
    "plt.plot(pos['Level'], pos['Salary'], label=\"reel\")\n",
    "plt.legend()\n",
    "\n",
    "# predictions.shape"
   ]
  },
  {
   "cell_type": "markdown",
   "metadata": {},
   "source": [
    "## sklearn"
   ]
  },
  {
   "cell_type": "code",
   "execution_count": 225,
   "metadata": {},
   "outputs": [
    {
     "name": "stdout",
     "output_type": "stream",
     "text": [
      "R2 = 0.9162082221443942\n"
     ]
    }
   ],
   "source": [
    "lr = LinearRegression()\n",
    "lr.fit(X,y)\n",
    "r2 = lr.score(X,y)\n",
    "pred = lr.predict(X)\n",
    "\n",
    "\n",
    "print(f'R2 = {r2}')"
   ]
  },
  {
   "cell_type": "code",
   "execution_count": 226,
   "metadata": {},
   "outputs": [
    {
     "data": {
      "text/plain": [
       "<matplotlib.legend.Legend at 0x19b713a72b0>"
      ]
     },
     "execution_count": 226,
     "metadata": {},
     "output_type": "execute_result"
    },
    {
     "data": {
      "image/png": "[encoded data removed]",
      "text/plain": [
       "<Figure size 432x288 with 1 Axes>"
      ]
     },
     "metadata": {
      "needs_background": "light"
     },
     "output_type": "display_data"
    }
   ],
   "source": [
    "plt.plot(pos['Level'], pred, label=\"pred\", c='r')\n",
    "plt.plot(pos['Level'], pos['Salary'], label=\"reel\")\n",
    "plt.legend()\n"
   ]
  },
  {
   "cell_type": "code",
   "execution_count": 228,
   "metadata": {},
   "outputs": [
    {
     "data": {
      "image/png": "[encoded data removed]",
      "text/plain": [
       "<Figure size 432x288 with 1 Axes>"
      ]
     },
     "metadata": {
      "needs_background": "light"
     },
     "output_type": "display_data"
    },
    {
     "name": "stdout",
     "output_type": "stream",
     "text": [
      "Le r2 de ce modèle est 0.9162082221443942 pour le degré 2\n"
     ]
    },
    {
     "data": {
      "image/png": "[encoded data removed]",
      "text/plain": [
       "<Figure size 432x288 with 1 Axes>"
      ]
     },
     "metadata": {
      "needs_background": "light"
     },
     "output_type": "display_data"
    },
    {
     "name": "stdout",
     "output_type": "stream",
     "text": [
      "Le r2 de ce modèle est 0.9812097727913367 pour le degré 3\n"
     ]
    },
    {
     "data": {
      "image/png": "[encoded data removed]",
      "text/plain": [
       "<Figure size 432x288 with 1 Axes>"
      ]
     },
     "metadata": {
      "needs_background": "light"
     },
     "output_type": "display_data"
    },
    {
     "name": "stdout",
     "output_type": "stream",
     "text": [
      "Le r2 de ce modèle est 0.9973922891706614 pour le degré 4\n"
     ]
    },
    {
     "data": {
      "image/png": "[encoded data removed]",
      "text/plain": [
       "<Figure size 432x288 with 1 Axes>"
      ]
     },
     "metadata": {
      "needs_background": "light"
     },
     "output_type": "display_data"
    },
    {
     "name": "stdout",
     "output_type": "stream",
     "text": [
      "Le r2 de ce modèle est 0.9997969027099755 pour le degré 5\n"
     ]
    },
    {
     "data": {
      "image/png": "[encoded data removed]",
      "text/plain": [
       "<Figure size 432x288 with 1 Axes>"
      ]
     },
     "metadata": {
      "needs_background": "light"
     },
     "output_type": "display_data"
    },
    {
     "name": "stdout",
     "output_type": "stream",
     "text": [
      "Le r2 de ce modèle est 0.9999494749253776 pour le degré 6\n"
     ]
    },
    {
     "data": {
      "image/png": "[encoded data removed]",
      "text/plain": [
       "<Figure size 432x288 with 1 Axes>"
      ]
     },
     "metadata": {
      "needs_background": "light"
     },
     "output_type": "display_data"
    },
    {
     "name": "stdout",
     "output_type": "stream",
     "text": [
      "Le r2 de ce modèle est 0.9999770143729169 pour le degré 7\n"
     ]
    },
    {
     "data": {
      "image/png": "[encoded data removed]",
      "text/plain": [
       "<Figure size 432x288 with 1 Axes>"
      ]
     },
     "metadata": {
      "needs_background": "light"
     },
     "output_type": "display_data"
    },
    {
     "name": "stdout",
     "output_type": "stream",
     "text": [
      "Le r2 de ce modèle est 0.9999934972438328 pour le degré 8\n"
     ]
    },
    {
     "data": {
      "image/png": "[encoded data removed]",
      "text/plain": [
       "<Figure size 432x288 with 1 Axes>"
      ]
     },
     "metadata": {
      "needs_background": "light"
     },
     "output_type": "display_data"
    },
    {
     "name": "stdout",
     "output_type": "stream",
     "text": [
      "Le r2 de ce modèle est 0.9999999999999797 pour le degré 9\n"
     ]
    }
   ],
   "source": [
    "# avec PolynomialFeatures et LinearRegression :\n",
    "\n",
    "y = pos['Salary']\n",
    "X_t = np.array(pos['Level']).reshape(pos.shape[0],1)\n",
    "\n",
    "for i in range(2, 10):\n",
    "    \n",
    "    X_poly = PolynomialFeatures(i).fit_transform(X_t)\n",
    "    modele = LinearRegression().fit(X_poly, y)\n",
    "    r2 = modele.score(X_poly, y)\n",
    "    y_pred = modele.predict(X_poly)\n",
    "\n",
    "    plt.figure()\n",
    "    plt.scatter(X_t, y)\n",
    "    plt.plot(X_t, y_pred, c='r', lw=3)\n",
    "    plt.show()\n",
    "    \n",
    "    print(f'Le r2 de ce modèle est {r2} pour le degré {i}')"
   ]
  },
  {
   "cell_type": "code",
   "execution_count": null,
   "metadata": {},
   "outputs": [],
   "source": []
  }
 ],
 "metadata": {
  "kernelspec": {
   "display_name": "Python 3",
   "language": "python",
   "name": "python3"
  },
  "language_info": {
   "codemirror_mode": {
    "name": "ipython",
    "version": 3
   },
   "file_extension": ".py",
   "mimetype": "text/x-python",
   "name": "python",
   "nbconvert_exporter": "python",
   "pygments_lexer": "ipython3",
   "version": "3.8.3"
  }
 },
 "nbformat": 4,
 "nbformat_minor": 4
}
